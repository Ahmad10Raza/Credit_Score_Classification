{
 "cells": [
  {
   "cell_type": "markdown",
   "metadata": {},
   "source": [
    "# Problem Satetment :-) Credit Score Classification: Case Study"
   ]
  },
  {
   "cell_type": "markdown",
   "metadata": {},
   "source": [
    "#### Description :-) The credit score of a person determines the creditworthiness of the person. It helps financial companies determine if you can repay the loan or credit you are applying for."
   ]
  },
  {
   "attachments": {},
   "cell_type": "markdown",
   "metadata": {},
   "source": [
    "* [DataSet Link (Click Me](https://statso.io/credit-score-classification-case-study/)"
   ]
  },
  {
   "cell_type": "markdown",
   "metadata": {},
   "source": [
    "### 1. Importing  Necessary Libraries"
   ]
  },
  {
   "cell_type": "code",
   "execution_count": null,
   "metadata": {},
   "outputs": [],
   "source": [
    "import pandas as pd\n",
    "import numpy as np\n",
    "import plotly.express as px\n",
    "import plotly.graph_objects as go\n",
    "import plotly.io as pio\n",
    "import matplotlib.pyplot as plt\n",
    "\n",
    "\n"
   ]
  },
  {
   "cell_type": "markdown",
   "metadata": {},
   "source": [
    "# 2. Data Set Information\n",
    "1. ID: Unique ID of the record\n",
    "2. Customer_ID: Unique ID of the customer\n",
    "3. Month: Month of the year\n",
    "4. Name: The name of the person\n",
    "5. Age: The age of the person\n",
    "6. SSN: Social Security Number of the person\n",
    "7. Occupation: The occupation of the person\n",
    "8. Annual_Income: The Annual Income of the person\n",
    "9. Monthly_Inhand_Salary: Monthly in-hand salary of the person\n",
    "10. Num_Bank_Accounts: The number of bank accounts of the person\n",
    "11. Num_Credit_Card: Number of credit cards the person is having\n",
    "12. Interest_Rate: The interest rate on the credit card of the person\n",
    "13. Num_of_Loan: The number of loans taken by the person from the bank\n",
    "14. Type_of_Loan: The types of loans taken by the person from the bank\n",
    "15. Delay_from_due_date: The average number of days delayed by the person from the date of payment\n",
    "16. Num_of_Delayed_Payment: Number of payments delayed by the person\n",
    "17. Changed_Credit_Card: The percentage change in the credit card limit of the person\n",
    "18. Num_Credit_Inquiries: The number of credit card inquiries by the person\n",
    "19. Credit_Mix: Classification of Credit Mix of the customer\n",
    "20. Outstanding_Debt: The outstanding balance of the person\n",
    "21. Credit_Utilization_Ratio: The credit utilization ratio of the credit card of the customer\n",
    "22. Credit_History_Age: The age of the credit history of the person\n",
    "23. Payment_of_Min_Amount: Yes if the person paid the minimum amount to be paid only, otherwise no.\n",
    "24. Total_EMI_per_month: The total EMI per month of the person\n",
    "25. Amount_invested_monthly: The monthly amount invested by the person\n",
    "26. Payment_Behaviour: The payment behaviour of the person\n",
    "27. Monthly_Balance: The monthly balance left in the account of the person\n",
    "28. Credit_Score: The credit score of the person\n"
   ]
  },
  {
   "cell_type": "markdown",
   "metadata": {},
   "source": [
    "* **The Credit_Score column is the target variable in this problem. You are required to find relationships based on how banks classify credit scores and train a model to classify the credit score of a person.**"
   ]
  },
  {
   "cell_type": "markdown",
   "metadata": {},
   "source": [
    "### 2.1 Reading Datset"
   ]
  },
  {
   "cell_type": "code",
   "execution_count": null,
   "metadata": {},
   "outputs": [],
   "source": [
    "data=pd.read_csv(\"train.csv\")\n",
    "data.head()"
   ]
  },
  {
   "cell_type": "markdown",
   "metadata": {},
   "source": [
    "* Let’s have a look at the information about the columns in the dataset:"
   ]
  },
  {
   "cell_type": "code",
   "execution_count": null,
   "metadata": {},
   "outputs": [],
   "source": [
    "data.shape"
   ]
  },
  {
   "cell_type": "markdown",
   "metadata": {},
   "source": [
    "* The DataSet Contain Observation => 100000 , Feature => 28"
   ]
  },
  {
   "cell_type": "code",
   "execution_count": null,
   "metadata": {},
   "outputs": [],
   "source": [
    "data.info()"
   ]
  },
  {
   "cell_type": "markdown",
   "metadata": {},
   "source": [
    "* Some Feature is Object and some numeric "
   ]
  },
  {
   "cell_type": "code",
   "execution_count": null,
   "metadata": {},
   "outputs": [],
   "source": [
    "data.describe()"
   ]
  },
  {
   "cell_type": "markdown",
   "metadata": {},
   "source": [
    "# 3. Handling Null Value"
   ]
  },
  {
   "cell_type": "code",
   "execution_count": null,
   "metadata": {},
   "outputs": [],
   "source": [
    "data.isnull()"
   ]
  },
  {
   "cell_type": "code",
   "execution_count": null,
   "metadata": {},
   "outputs": [],
   "source": [
    "data.isnull().sum()"
   ]
  },
  {
   "cell_type": "markdown",
   "metadata": {},
   "source": [
    "**The dataset doesn’t have any null values. As this dataset is labelled, let’s have a look at the Credit_Score column values:**"
   ]
  },
  {
   "cell_type": "code",
   "execution_count": null,
   "metadata": {},
   "outputs": [],
   "source": [
    "data['Credit_Score'].value_counts()"
   ]
  },
  {
   "cell_type": "markdown",
   "metadata": {},
   "source": [
    "# 4. Data Exploration"
   ]
  },
  {
   "cell_type": "markdown",
   "metadata": {},
   "source": [
    "* The dataset has many features that can train a Machine Learning model for credit score classification. Let’s explore all the features one by one."
   ]
  },
  {
   "cell_type": "code",
   "execution_count": null,
   "metadata": {},
   "outputs": [],
   "source": [
    "data.columns.unique()"
   ]
  },
  {
   "cell_type": "code",
   "execution_count": null,
   "metadata": {},
   "outputs": [],
   "source": [
    "fig=px.box(data,x='Occupation',\n",
    "           color='Credit_Score',\n",
    "           color_discrete_map={'Poor':'red',\n",
    "                               'Standard':'yellow',\n",
    "                               'Good':'green'}\n",
    "           )\n",
    "fig.update_layout(\n",
    "    plot_bgcolor='rgba(0,0,0,0.7)', # sets the plot background color to a dark gray\n",
    "    paper_bgcolor='rgba(0,0,0,0.7)', # sets the paper background color to a dark gray\n",
    "    font_color='white',\n",
    "    title={'text':'Credit score Based On Occupation','font_color':'red'}\n",
    ")\n",
    "fig.show()"
   ]
  },
  {
   "cell_type": "markdown",
   "metadata": {},
   "source": [
    "* There’s not much difference in the credit scores of all occupations mentioned in the data. Now let’s explore whether the Annual Income of the person impacts your credit scores or not:"
   ]
  },
  {
   "cell_type": "code",
   "execution_count": null,
   "metadata": {},
   "outputs": [],
   "source": [
    "fig=px.box(data,\n",
    "           x='Credit_Score',\n",
    "           y='Annual_Income',\n",
    "           color='Credit_Score',\n",
    "           color_discrete_map={'Poor':'red',\n",
    "                               'Standard':'yellow',\n",
    "                               'Good':'green'},\n",
    "           )\n",
    "fig.update_traces(quartilemethod='exclusive')\n",
    "fig.update_layout(\n",
    "    plot_bgcolor='rgba(0,0,0,0.7)', # sets the plot background color to a dark gray\n",
    "    paper_bgcolor='rgba(0,0,0,0.7)', # sets the paper background color to a dark gray\n",
    "    font_color='white',\n",
    "    title={'text':'Credit score Based On Occupation','font_color':'red'},\n",
    "    width=1400,\n",
    "    height=900\n",
    ")\n",
    "fig.show()\n",
    "           \n",
    "           "
   ]
  },
  {
   "cell_type": "markdown",
   "metadata": {},
   "source": [
    "* **According to the above visualization, the more you earn annually, the better your credit score is.** \n",
    "* **Now let’s explore whether the monthly in-hand salary impacts credit scores or not**"
   ]
  },
  {
   "cell_type": "code",
   "execution_count": null,
   "metadata": {},
   "outputs": [],
   "source": [
    "fig=px.box(data,\n",
    "           x='Credit_Score',\n",
    "           y='Monthly_Inhand_Salary',\n",
    "           color='Credit_Score',\n",
    "           color_discrete_map={'Poor':'red',\n",
    "                               'Standard':'yellow',\n",
    "                               'Good':'green'},\n",
    "           )\n",
    "fig.update_traces(quartilemethod='exclusive')\n",
    "fig.update_layout(\n",
    "    plot_bgcolor='rgba(0,0,0,0.7)', # sets the plot background color to a dark gray\n",
    "    paper_bgcolor='rgba(0,0,0,0.7)', # sets the paper background color to a dark gray\n",
    "    font_color='white',\n",
    "    title={'text':'Credit score Based On Monthly Inhand Salary ','font_color':'red'},\n",
    "    width=1400,\n",
    "    height=900\n",
    ")\n",
    "fig.show()\n",
    "           \n",
    "           "
   ]
  },
  {
   "cell_type": "markdown",
   "metadata": {},
   "source": [
    "* **Like annual income, the more monthly in-hand salary you earn, the better your credit score will become.** \n",
    "* **Now let’s see if having more bank accounts impacts credit scores or not**"
   ]
  },
  {
   "cell_type": "code",
   "execution_count": null,
   "metadata": {},
   "outputs": [],
   "source": [
    "fig=px.box(data,\n",
    "           x='Credit_Score',\n",
    "           y='Num_Bank_Accounts',\n",
    "           color='Credit_Score',\n",
    "           color_discrete_map={'Poor':'red',\n",
    "                               'Standard':'yellow',\n",
    "                               'Good':'green'},\n",
    "           )\n",
    "fig.update_traces(quartilemethod='exclusive')\n",
    "fig.update_layout(\n",
    "    plot_bgcolor='rgba(0,0,0,0.7)', # sets the plot background color to a dark gray\n",
    "    paper_bgcolor='rgba(0,0,0,0.7)', # sets the paper background color to a dark gray\n",
    "    font_color='white',\n",
    "    title={'text':'Credit score Based On Number of Bank Accounts ','font_color':'red'},\n",
    "    width=1400,\n",
    "    height=900\n",
    ")\n",
    "fig.show()\n",
    "           \n",
    "           "
   ]
  },
  {
   "cell_type": "markdown",
   "metadata": {},
   "source": [
    "* **Maintaining more than five accounts is not good for having a good credit score.** \n",
    "* **A person should have 2 – 3 bank accounts only. So having more bank accounts doesn’t positively impact credit scores.**\n",
    "* Now let’s see the impact on credit scores based on the number of credit cards you have:"
   ]
  },
  {
   "cell_type": "code",
   "execution_count": null,
   "metadata": {},
   "outputs": [],
   "source": [
    "fig=px.box(data,\n",
    "           x='Credit_Score',\n",
    "           y='Num_Credit_Card',\n",
    "           color='Credit_Score',\n",
    "           color_discrete_map={'Poor':'red',\n",
    "                               'Standard':'yellow',\n",
    "                               'Good':'green'},\n",
    "           )\n",
    "fig.update_traces(quartilemethod='exclusive')\n",
    "fig.update_layout(\n",
    "    plot_bgcolor='rgba(0,0,0,0.7)', # sets the plot background color to a dark gray\n",
    "    paper_bgcolor='rgba(0,0,0,0.7)', # sets the paper background color to a dark gray\n",
    "    font_color='white',\n",
    "    title={'text':'Credit score Based On Number Of Credit Card','font_color':'red'},\n",
    "    width=1400,\n",
    "    height=900\n",
    ")\n",
    "fig.show()\n",
    "           \n",
    "           "
   ]
  },
  {
   "cell_type": "markdown",
   "metadata": {},
   "source": [
    "* **Just like the number of bank accounts, having more credit cards will not positively impact your credit scores.** \n",
    "* **Having 3 – 5 credit cards is good for your credit score.** \n",
    "* Now let’s see the impact on credit scores based on how much average interest you pay on loans and EMIs:"
   ]
  },
  {
   "cell_type": "code",
   "execution_count": null,
   "metadata": {},
   "outputs": [],
   "source": [
    "fig=px.box(data,\n",
    "           x='Credit_Score',\n",
    "           y='Interest_Rate',\n",
    "           color='Credit_Score',\n",
    "           color_discrete_map={'Poor':'red',\n",
    "                               'Standard':'yellow',\n",
    "                               'Good':'green'},\n",
    "           )\n",
    "fig.update_traces(quartilemethod='exclusive')\n",
    "fig.update_layout(\n",
    "    plot_bgcolor='rgba(0,0,0,0.7)', # sets the plot background color to a dark gray\n",
    "    paper_bgcolor='rgba(0,0,0,0.7)', # sets the paper background color to a dark gray\n",
    "    font_color='white',\n",
    "    title={'text':'Credit score Based On Average Interest rates','font_color':'red'},\n",
    "    width=1400,\n",
    "    height=900\n",
    ")\n",
    "fig.show()\n",
    "           \n",
    "           "
   ]
  },
  {
   "cell_type": "markdown",
   "metadata": {},
   "source": [
    "* **If the average interest rate is 4 – 11%, the credit score is good.** \n",
    "* **Having an average interest rate of more than 15% is bad for your credit scores.** \n",
    "* Now let’s see how many loans you can take at a time for a good credit score:"
   ]
  },
  {
   "cell_type": "code",
   "execution_count": null,
   "metadata": {},
   "outputs": [],
   "source": [
    "fig=px.box(data,\n",
    "           x='Credit_Score',\n",
    "           y='Num_of_Loan',\n",
    "           color='Credit_Score',\n",
    "           color_discrete_map={'Poor':'red',\n",
    "                               'Standard':'yellow',\n",
    "                               'Good':'green'},\n",
    "           )\n",
    "fig.update_traces(quartilemethod='exclusive')\n",
    "fig.update_layout(\n",
    "    plot_bgcolor='rgba(0,0,0,0.7)', # sets the plot background color to a dark gray\n",
    "    paper_bgcolor='rgba(0,0,0,0.7)', # sets the paper background color to a dark gray\n",
    "    font_color='white',\n",
    "    title={'text':'Credit score Based On Number Of Loan','font_color':'red'},\n",
    "    width=1400,\n",
    "    height=900\n",
    ")\n",
    "fig.show()\n",
    "           \n",
    "           "
   ]
  },
  {
   "cell_type": "markdown",
   "metadata": {},
   "source": [
    "* **To have a good credit score, you should not take more than 1 – 3 loans at a time.** \n",
    "* **Having more than three loans at a time will negatively impact your credit scores.** \n",
    "* Now let’s see if delaying payments on the due date impacts your credit scores or not:"
   ]
  },
  {
   "cell_type": "code",
   "execution_count": null,
   "metadata": {},
   "outputs": [],
   "source": [
    "fig=px.box(data,\n",
    "           x='Credit_Score',\n",
    "           y='Delay_from_due_date',\n",
    "           color='Credit_Score',\n",
    "           color_discrete_map={'Poor':'red',\n",
    "                               'Standard':'yellow',\n",
    "                               'Good':'green'},\n",
    "           )\n",
    "fig.update_traces(quartilemethod='exclusive')\n",
    "fig.update_layout(\n",
    "    plot_bgcolor='rgba(0,0,0,0.7)', # sets the plot background color to a dark gray\n",
    "    paper_bgcolor='rgba(0,0,0,0.7)', # sets the paper background color to a dark gray\n",
    "    font_color='white',\n",
    "    title={'text':'Credit score Based On Average Number of Days Delayed For Credit Crad Payments ','font_color':'red'},\n",
    "    width=1400,\n",
    "    height=900\n",
    ")\n",
    "fig.show()\n",
    "           \n",
    "           "
   ]
  },
  {
   "cell_type": "markdown",
   "metadata": {},
   "source": [
    "* **So you can delay your credit card payment 5 – 14 days from the due date.** \n",
    "* **Delaying your payments for more than 17 days from the due date will impact your credit scores negatively.**\n",
    "*  Now let’s have a look at if frequently delaying payments will impact credit scores or not:"
   ]
  },
  {
   "cell_type": "code",
   "execution_count": null,
   "metadata": {},
   "outputs": [],
   "source": [
    "fig=px.box(data,\n",
    "           x='Credit_Score',\n",
    "           y='Num_of_Delayed_Payment',\n",
    "           color='Credit_Score',\n",
    "           color_discrete_map={'Poor':'red',\n",
    "                               'Standard':'yellow',\n",
    "                               'Good':'green'},\n",
    "           )\n",
    "fig.update_traces(quartilemethod='exclusive')\n",
    "fig.update_layout(\n",
    "    plot_bgcolor='rgba(0,0,0,0.7)', # sets the plot background color to a dark gray\n",
    "    paper_bgcolor='rgba(0,0,0,0.7)', # sets the paper background color to a dark gray\n",
    "    font_color='white',\n",
    "    title={'text':'Credit score Based On Average Number of Delayed Payments','font_color':'red'},\n",
    "    width=1400,\n",
    "    height=900\n",
    ")\n",
    "fig.show()\n",
    "           \n",
    "           "
   ]
  },
  {
   "cell_type": "markdown",
   "metadata": {},
   "source": [
    "* **So delaying 4 – 12 payments from the due date will not affect your credit scores.** \n",
    "* **But delaying more than 12 payments from the due date will affect your credit scores negatively.** \n",
    "* Now let’s see if having more debt will affect credit scores or not:"
   ]
  },
  {
   "cell_type": "code",
   "execution_count": null,
   "metadata": {},
   "outputs": [],
   "source": [
    "fig=px.box(data,\n",
    "           x='Credit_Score',\n",
    "           y='Outstanding_Debt',\n",
    "           color='Credit_Score',\n",
    "           color_discrete_map={'Poor':'red',\n",
    "                               'Standard':'yellow',\n",
    "                               'Good':'green'},\n",
    "           )\n",
    "fig.update_traces(quartilemethod='exclusive')\n",
    "fig.update_layout(\n",
    "    plot_bgcolor='rgba(0,0,0,0.7)', # sets the plot background color to a dark gray\n",
    "    paper_bgcolor='rgba(0,0,0,0.7)', # sets the paper background color to a dark gray\n",
    "    font_color='white',\n",
    "    title={'text':'Credit score Based On Oustanding Debt','font_color':'red'},\n",
    "    width=1400,\n",
    "    height=900\n",
    ")\n",
    "fig.show()\n",
    "           \n",
    "           "
   ]
  },
  {
   "cell_type": "markdown",
   "metadata": {},
   "source": [
    "* **An outstanding debt of $380 – $1150 will not affect your credit scores.** \n",
    "* **But always having a debt of more than $1338 will affect your credit scores negatively.** \n",
    "* Now let’s see if having a high credit utilization ratio will affect credit scores or not:"
   ]
  },
  {
   "cell_type": "code",
   "execution_count": null,
   "metadata": {},
   "outputs": [],
   "source": [
    "fig=px.box(data,\n",
    "           x='Credit_Score',\n",
    "           y='Credit_Utilization_Ratio',\n",
    "           color='Credit_Score',\n",
    "           color_discrete_map={'Poor':'red',\n",
    "                               'Standard':'yellow',\n",
    "                               'Good':'green'},\n",
    "           )\n",
    "fig.update_traces(quartilemethod='exclusive')\n",
    "fig.update_layout(\n",
    "    plot_bgcolor='rgba(0,0,0,0.7)', # sets the plot background color to a dark gray\n",
    "    paper_bgcolor='rgba(0,0,0,0.7)', # sets the paper background color to a dark gray\n",
    "    font_color='white',\n",
    "    title={'text':'Credit score Based On Credit Utilization Ratio ','font_color':'red'},\n",
    "    width=1400,\n",
    "    height=900\n",
    ")\n",
    "fig.show()\n",
    "           \n",
    "           "
   ]
  },
  {
   "cell_type": "markdown",
   "metadata": {},
   "source": [
    "* **Credit utilization ratio means your total debt divided by your total available credit.** \n",
    "* **According to the above figure, your credit utilization ratio doesn’t affect your credit scores.** \n",
    "* Now let’s see how the credit history age of a person affects credit scores:"
   ]
  },
  {
   "cell_type": "code",
   "execution_count": null,
   "metadata": {},
   "outputs": [],
   "source": [
    "fig=px.box(data,\n",
    "           x='Credit_Score',\n",
    "           y='Credit_History_Age',\n",
    "           color='Credit_Score',\n",
    "           color_discrete_map={'Poor':'red',\n",
    "                               'Standard':'yellow',\n",
    "                               'Good':'green'},\n",
    "           )\n",
    "fig.update_traces(quartilemethod='exclusive')\n",
    "fig.update_layout(\n",
    "    plot_bgcolor='rgba(0,0,0,0.7)', # sets the plot background color to a dark gray\n",
    "    paper_bgcolor='rgba(0,0,0,0.7)', # sets the paper background color to a dark gray\n",
    "    font_color='white',\n",
    "    title={'text':'Credit score Based On Credit History Age','font_color':'red'},\n",
    "    width=1400,\n",
    "    height=900\n",
    ")\n",
    "fig.show()\n",
    "           \n",
    "           "
   ]
  },
  {
   "cell_type": "markdown",
   "metadata": {},
   "source": [
    "**So, having a long credit history results in better credit scores.** \n",
    "* Now let’s see how many EMIs you can have in a month for a good credit score:"
   ]
  },
  {
   "cell_type": "code",
   "execution_count": null,
   "metadata": {},
   "outputs": [],
   "source": [
    "fig=px.box(data,\n",
    "           x='Credit_Score',\n",
    "           y='Total_EMI_per_month',\n",
    "           color='Credit_Score',\n",
    "           color_discrete_map={'Poor':'red',\n",
    "                               'Standard':'yellow',\n",
    "                               'Good':'green'},\n",
    "           )\n",
    "fig.update_traces(quartilemethod='exclusive')\n",
    "fig.update_layout(\n",
    "    plot_bgcolor='rgba(0,0,0,0.7)', # sets the plot background color to a dark gray\n",
    "    paper_bgcolor='rgba(0,0,0,0.7)', # sets the paper background color to a dark gray\n",
    "    font_color='white',\n",
    "    title={'text':'Credit score Based On Total EMI Per Month','font_color':'red'},\n",
    "    width=1400,\n",
    "    height=900\n",
    ")\n",
    "fig.show()\n",
    "           \n",
    "           "
   ]
  },
  {
   "cell_type": "markdown",
   "metadata": {},
   "source": [
    "* **The number of EMIs you are paying in a month doesn’t affect much on credit scores.** \n",
    "* Now let’s see if your monthly investments affect your credit scores or not:"
   ]
  },
  {
   "cell_type": "code",
   "execution_count": null,
   "metadata": {},
   "outputs": [],
   "source": [
    "fig=px.box(data,\n",
    "           x='Credit_Score',\n",
    "           y='Amount_invested_monthly',\n",
    "           color='Credit_Score',\n",
    "           color_discrete_map={'Poor':'red',\n",
    "                               'Standard':'yellow',\n",
    "                               'Good':'green'},\n",
    "           )\n",
    "fig.update_traces(quartilemethod='exclusive')\n",
    "fig.update_layout(\n",
    "    plot_bgcolor='rgba(0,0,0,0.7)', # sets the plot background color to a dark gray\n",
    "    paper_bgcolor='rgba(0,0,0,0.7)', # sets the paper background color to a dark gray\n",
    "    font_color='white',\n",
    "    title={'text':'Credit score Based On Amount Invested Monthly','font_color':'red'},\n",
    "    width=1400,\n",
    "    height=900\n",
    ")\n",
    "fig.show()\n",
    "           \n",
    "           "
   ]
  },
  {
   "cell_type": "markdown",
   "metadata": {},
   "source": [
    "* **The amount of money you invest monthly doesn’t affect your credit scores a lot.** \n",
    "* Now let’s see if having a low amount at the end of the month affects credit scores or not:"
   ]
  },
  {
   "cell_type": "code",
   "execution_count": null,
   "metadata": {},
   "outputs": [],
   "source": [
    "fig=px.box(data,\n",
    "           x='Credit_Score',\n",
    "           y='Monthly_Balance',\n",
    "           color='Credit_Score',\n",
    "           color_discrete_map={'Poor':'red',\n",
    "                               'Standard':'yellow',\n",
    "                               'Good':'green'},\n",
    "           )\n",
    "fig.update_traces(quartilemethod='exclusive')\n",
    "fig.update_layout(\n",
    "    plot_bgcolor='rgba(0,0,0,0.7)', # sets the plot background color to a dark gray\n",
    "    paper_bgcolor='rgba(0,0,0,0.7)', # sets the paper background color to a dark gray\n",
    "    font_color='white',\n",
    "    title={'text':'Credit score Based On Monthly Balance Left','font_color':'red'},\n",
    "    width=1400,\n",
    "    height=900\n",
    ")\n",
    "fig.show()\n",
    "           \n",
    "           "
   ]
  },
  {
   "cell_type": "markdown",
   "metadata": {},
   "source": [
    "**So, having a high monthly balance in your account at the end of the month is good for your credit scores.** \n",
    "* **A monthly balance of less than $250 is bad for credit scores.**"
   ]
  },
  {
   "cell_type": "markdown",
   "metadata": {},
   "source": [
    "### Credit Score Classification Model\n",
    "* **One more important feature (Credit Mix) in the dataset is valuable for determining credit scores.** \n",
    "* **The credit mix feature tells about the types of credits and loans you have taken.**"
   ]
  },
  {
   "cell_type": "markdown",
   "metadata": {},
   "source": [
    "* **As the Credit_Mix column is categorical, I will transform it into a numerical feature so that we can use it to train a Machine Learning model for the task of credit score classification:**"
   ]
  },
  {
   "cell_type": "code",
   "execution_count": null,
   "metadata": {},
   "outputs": [],
   "source": [
    "data['Credit_Mix']=data['Credit_Mix'].map({\"Standard\":1,\"Good\":2,\"Bad\":0})\n"
   ]
  },
  {
   "cell_type": "markdown",
   "metadata": {},
   "source": [
    "* **Now I will split the data into features and labels by selecting the features we found important for our model:**"
   ]
  },
  {
   "cell_type": "code",
   "execution_count": null,
   "metadata": {},
   "outputs": [],
   "source": [
    "from sklearn.model_selection import train_test_split"
   ]
  },
  {
   "cell_type": "markdown",
   "metadata": {},
   "source": [
    "* **Making Dependent and Independent Feature**"
   ]
  },
  {
   "cell_type": "code",
   "execution_count": null,
   "metadata": {},
   "outputs": [],
   "source": [
    "# Independent Feature\n",
    "x = np.array(data[[\"Annual_Income\", \"Monthly_Inhand_Salary\", \n",
    "                   \"Num_Bank_Accounts\", \"Num_Credit_Card\", \n",
    "                   \"Interest_Rate\", \"Num_of_Loan\", \n",
    "                   \"Delay_from_due_date\", \"Num_of_Delayed_Payment\", \n",
    "                   \"Credit_Mix\", \"Outstanding_Debt\", \n",
    "                   \"Credit_History_Age\", \"Monthly_Balance\"]]\n",
    ")   \n",
    " # dependent Features\n",
    "y = np.array(data[\"Credit_Score\"])"
   ]
  },
  {
   "cell_type": "code",
   "execution_count": null,
   "metadata": {},
   "outputs": [],
   "source": [
    "x_train, x_test, y_train, y_test = train_test_split(x, y, \n",
    "                                                    test_size=0.33, \n",
    "                                                    random_state=42)"
   ]
  },
  {
   "cell_type": "code",
   "execution_count": null,
   "metadata": {},
   "outputs": [],
   "source": [
    "from sklearn.ensemble import RandomForestClassifier\n",
    "model = RandomForestClassifier()\n",
    "model.fit(x_train, y_train)"
   ]
  },
  {
   "cell_type": "markdown",
   "metadata": {},
   "source": [
    "* **Now, let’s make predictions from our model by giving inputs to our model according to the features we used to train the model:**"
   ]
  },
  {
   "cell_type": "code",
   "execution_count": null,
   "metadata": {},
   "outputs": [],
   "source": [
    "print(\"Credit Score Prediction : \")\n",
    "a = float(input(\"Annual Income: \"))\n",
    "b = float(input(\"Monthly Inhand Salary: \"))\n",
    "c = float(input(\"Number of Bank Accounts: \"))\n",
    "d = float(input(\"Number of Credit cards: \"))\n",
    "e = float(input(\"Interest rate: \"))\n",
    "f = float(input(\"Number of Loans: \"))\n",
    "g = float(input(\"Average number of days delayed by the person: \"))\n",
    "h = float(input(\"Number of delayed payments: \"))\n",
    "i = input(\"Credit Mix (Bad: 0, Standard: 1, Good: 3) : \")\n",
    "j = float(input(\"Outstanding Debt: \"))\n",
    "k = float(input(\"Credit History Age: \"))\n",
    "l = float(input(\"Monthly Balance: \"))\n",
    "\n",
    "features = np.array([[a, b, c, d, e, f, g, h, i, j, k, l]])\n",
    "print(\"Predicted Credit Score = \", model.predict(features))"
   ]
  },
  {
   "attachments": {},
   "cell_type": "markdown",
   "metadata": {},
   "source": [
    "# Data Input Above Test\n",
    "* Credit Score Prediction : \n",
    "* Annual Income: 19114.12\n",
    "* Monthly Inhand Salary: 1824.843333\n",
    "* Number of Bank Accounts: 2\n",
    "* Number of Credit cards: 2\n",
    "* Interest rate: 9\n",
    "* Number of Loans: 2\n",
    "* Average number of days delayed by the person: 12\n",
    "* Number of delayed payments: 3\n",
    "* Credit Mix (Bad: 0, Standard: 1, Good: 3) : 3\n",
    "* Outstanding Debt: 250\n",
    "* Credit History Age: 200\n",
    "* Monthly Balance: 310\n",
    "* Predicted Credit Score =  ['Good']\n"
   ]
  },
  {
   "cell_type": "markdown",
   "metadata": {},
   "source": [
    "* ####  So this is how you can use Machine Learning for the task of Credit Score Classification using Python."
   ]
  },
  {
   "cell_type": "markdown",
   "metadata": {},
   "source": [
    "# Summary\n",
    "**Classifying customers based on their credit scores helps banks and credit card companies immediately to issue loans to customers with good creditworthiness. A person with a good credit score will get loans from any bank and financial institution. I hope you liked this article on Credit Score Classification with Machine Learning using Python. Feel free to ask valuable questions in the comments section below.**"
   ]
  },
  {
   "cell_type": "markdown",
   "metadata": {},
   "source": [
    "# Reference\n",
    "* [DataSet Link (Click Me](https://statso.io/credit-score-classification-case-study/)\n",
    "* [Aman Kharwal (medium.com)](https://amankharwal.medium.com/)"
   ]
  },
  {
   "cell_type": "markdown",
   "metadata": {},
   "source": [
    "<div style=\"color:white;\n",
    "            display:fill;\n",
    "            border-radius:15px;\n",
    "            background-color:black;\n",
    "            font-size:100%;\n",
    "            font-family:Verdana;\n",
    "            letter-spacing:1px\">\n",
    "    <h2 style='padding: 20px;\n",
    "              color:red;\n",
    "              text-align:center;'>\n",
    "         END OF THE PROJECT ! \n",
    "    </h2>\n",
    "    </div>"
   ]
  },
  {
   "cell_type": "markdown",
   "metadata": {},
   "source": [
    "<div style=\"color:white;\n",
    "            display:fill;\n",
    "            border-radius:15px;\n",
    "            background-color:black;\n",
    "            font-size:100%;\n",
    "            font-family:Verdana;\n",
    "            letter-spacing:1px\">\n",
    "    <h2 style='padding: 20px;\n",
    "              color:GREEN;\n",
    "              text-align:center;'>\n",
    "         THANK YOU ! \n",
    "        </h2>\n",
    "    </div>"
   ]
  }
 ],
 "metadata": {
  "kernelspec": {
   "display_name": "Python 3 (ipykernel)",
   "language": "python",
   "name": "python3"
  },
  "language_info": {
   "codemirror_mode": {
    "name": "ipython",
    "version": 3
   },
   "file_extension": ".py",
   "mimetype": "text/x-python",
   "name": "python",
   "nbconvert_exporter": "python",
   "pygments_lexer": "ipython3",
   "version": "3.11.2"
  }
 },
 "nbformat": 4,
 "nbformat_minor": 2
}
