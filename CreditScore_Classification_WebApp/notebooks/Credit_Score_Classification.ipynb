{
 "cells": [
  {
   "cell_type": "markdown",
   "metadata": {},
   "source": [
    "# Problem Satetment :-) Credit Score Classification: Case Study"
   ]
  },
  {
   "cell_type": "markdown",
   "metadata": {},
   "source": [
    "#### Description :-) The credit score of a person determines the creditworthiness of the person. It helps financial companies determine if you can repay the loan or credit you are applying for."
   ]
  },
  {
   "attachments": {},
   "cell_type": "markdown",
   "metadata": {},
   "source": [
    "* [DataSet Link (Click Me](https://statso.io/credit-score-classification-case-study/)"
   ]
  },
  {
   "cell_type": "markdown",
   "metadata": {},
   "source": [
    "### 1. Importing  Necessary Libraries"
   ]
  },
  {
   "cell_type": "code",
   "execution_count": 6,
   "metadata": {},
   "outputs": [
    {
     "name": "stdout",
     "output_type": "stream",
     "text": [
      "Collecting plotly-express\n",
      "  Downloading plotly_express-0.4.1-py2.py3-none-any.whl.metadata (1.7 kB)\n",
      "Requirement already satisfied: pandas>=0.20.0 in c:\\users\\mrhac\\anaconda3\\envs\\sign2\\lib\\site-packages (from plotly-express) (1.3.0)\n",
      "Collecting plotly>=4.1.0 (from plotly-express)\n",
      "  Using cached plotly-6.0.1-py3-none-any.whl.metadata (6.7 kB)\n",
      "Collecting statsmodels>=0.9.0 (from plotly-express)\n",
      "  Downloading statsmodels-0.14.4-cp39-cp39-win_amd64.whl.metadata (9.5 kB)\n",
      "Requirement already satisfied: scipy>=0.18 in c:\\users\\mrhac\\anaconda3\\envs\\sign2\\lib\\site-packages (from plotly-express) (1.13.1)\n",
      "Collecting patsy>=0.5 (from plotly-express)\n",
      "  Downloading patsy-1.0.1-py2.py3-none-any.whl.metadata (3.3 kB)\n",
      "Requirement already satisfied: numpy>=1.11 in c:\\users\\mrhac\\anaconda3\\envs\\sign2\\lib\\site-packages (from plotly-express) (1.26.4)\n",
      "Requirement already satisfied: python-dateutil>=2.7.3 in c:\\users\\mrhac\\anaconda3\\envs\\sign2\\lib\\site-packages (from pandas>=0.20.0->plotly-express) (2.9.0.post0)\n",
      "Requirement already satisfied: pytz>=2017.3 in c:\\users\\mrhac\\anaconda3\\envs\\sign2\\lib\\site-packages (from pandas>=0.20.0->plotly-express) (2025.1)\n",
      "Collecting narwhals>=1.15.1 (from plotly>=4.1.0->plotly-express)\n",
      "  Using cached narwhals-1.32.0-py3-none-any.whl.metadata (9.2 kB)\n",
      "Requirement already satisfied: packaging in c:\\users\\mrhac\\anaconda3\\envs\\sign2\\lib\\site-packages (from plotly>=4.1.0->plotly-express) (24.2)\n",
      "Collecting pandas>=0.20.0 (from plotly-express)\n",
      "  Using cached pandas-2.2.3-cp39-cp39-win_amd64.whl.metadata (19 kB)\n",
      "Requirement already satisfied: tzdata>=2022.7 in c:\\users\\mrhac\\anaconda3\\envs\\sign2\\lib\\site-packages (from pandas>=0.20.0->plotly-express) (2025.1)\n",
      "Requirement already satisfied: six>=1.5 in c:\\users\\mrhac\\anaconda3\\envs\\sign2\\lib\\site-packages (from python-dateutil>=2.7.3->pandas>=0.20.0->plotly-express) (1.17.0)\n",
      "Downloading plotly_express-0.4.1-py2.py3-none-any.whl (2.9 kB)\n",
      "Downloading patsy-1.0.1-py2.py3-none-any.whl (232 kB)\n",
      "Downloading plotly-6.0.1-py3-none-any.whl (14.8 MB)\n",
      "   ---------------------------------------- 0.0/14.8 MB ? eta -:--:--\n",
      "    --------------------------------------- 0.3/14.8 MB ? eta -:--:--\n",
      "   -- ------------------------------------- 0.8/14.8 MB 1.9 MB/s eta 0:00:08\n",
      "   -- ------------------------------------- 0.8/14.8 MB 1.9 MB/s eta 0:00:08\n",
      "   --- ------------------------------------ 1.3/14.8 MB 1.5 MB/s eta 0:00:10\n",
      "   ---- ----------------------------------- 1.6/14.8 MB 1.6 MB/s eta 0:00:09\n",
      "   ---- ----------------------------------- 1.8/14.8 MB 1.5 MB/s eta 0:00:09\n",
      "   ------ --------------------------------- 2.4/14.8 MB 1.5 MB/s eta 0:00:09\n",
      "   ------- -------------------------------- 2.6/14.8 MB 1.6 MB/s eta 0:00:08\n",
      "   -------- ------------------------------- 3.1/14.8 MB 1.7 MB/s eta 0:00:08\n",
      "   --------- ------------------------------ 3.4/14.8 MB 1.7 MB/s eta 0:00:07\n",
      "   ---------- ----------------------------- 3.9/14.8 MB 1.7 MB/s eta 0:00:07\n",
      "   ------------ --------------------------- 4.5/14.8 MB 1.7 MB/s eta 0:00:06\n",
      "   ------------- -------------------------- 5.0/14.8 MB 1.8 MB/s eta 0:00:06\n",
      "   -------------- ------------------------- 5.5/14.8 MB 1.9 MB/s eta 0:00:05\n",
      "   ---------------- ----------------------- 6.0/14.8 MB 1.9 MB/s eta 0:00:05\n",
      "   ----------------- ---------------------- 6.6/14.8 MB 1.9 MB/s eta 0:00:05\n",
      "   ------------------- -------------------- 7.1/14.8 MB 1.9 MB/s eta 0:00:05\n",
      "   ------------------- -------------------- 7.3/14.8 MB 1.9 MB/s eta 0:00:04\n",
      "   --------------------- ------------------ 7.9/14.8 MB 1.9 MB/s eta 0:00:04\n",
      "   --------------------- ------------------ 8.1/14.8 MB 1.9 MB/s eta 0:00:04\n",
      "   ------------------------ --------------- 8.9/14.8 MB 2.0 MB/s eta 0:00:04\n",
      "   ------------------------ --------------- 9.2/14.8 MB 2.0 MB/s eta 0:00:03\n",
      "   -------------------------- ------------- 9.7/14.8 MB 2.0 MB/s eta 0:00:03\n",
      "   -------------------------- ------------- 10.0/14.8 MB 2.0 MB/s eta 0:00:03\n",
      "   ---------------------------- ----------- 10.5/14.8 MB 2.0 MB/s eta 0:00:03\n",
      "   ----------------------------- ---------- 10.7/14.8 MB 1.9 MB/s eta 0:00:03\n",
      "   ------------------------------ --------- 11.3/14.8 MB 2.0 MB/s eta 0:00:02\n",
      "   ------------------------------- -------- 11.8/14.8 MB 2.0 MB/s eta 0:00:02\n",
      "   -------------------------------- ------- 12.1/14.8 MB 2.0 MB/s eta 0:00:02\n",
      "   ---------------------------------- ----- 12.8/14.8 MB 2.0 MB/s eta 0:00:01\n",
      "   ----------------------------------- ---- 13.1/14.8 MB 2.0 MB/s eta 0:00:01\n",
      "   ------------------------------------ --- 13.4/14.8 MB 2.0 MB/s eta 0:00:01\n",
      "   -------------------------------------- - 14.2/14.8 MB 2.0 MB/s eta 0:00:01\n",
      "   -------------------------------------- - 14.4/14.8 MB 2.0 MB/s eta 0:00:01\n",
      "   ---------------------------------------- 14.8/14.8 MB 2.0 MB/s eta 0:00:00\n",
      "Downloading statsmodels-0.14.4-cp39-cp39-win_amd64.whl (9.9 MB)\n",
      "   ---------------------------------------- 0.0/9.9 MB ? eta -:--:--\n",
      "   - -------------------------------------- 0.3/9.9 MB ? eta -:--:--\n",
      "   --- ------------------------------------ 0.8/9.9 MB 2.4 MB/s eta 0:00:04\n",
      "   ---- ----------------------------------- 1.0/9.9 MB 2.5 MB/s eta 0:00:04\n",
      "   ------- -------------------------------- 1.8/9.9 MB 2.6 MB/s eta 0:00:04\n",
      "   ---------- ----------------------------- 2.6/9.9 MB 2.5 MB/s eta 0:00:03\n",
      "   ----------- ---------------------------- 2.9/9.9 MB 2.3 MB/s eta 0:00:04\n",
      "   -------------- ------------------------- 3.7/9.9 MB 2.5 MB/s eta 0:00:03\n",
      "   --------------- ------------------------ 3.9/9.9 MB 2.3 MB/s eta 0:00:03\n",
      "   ----------------- ---------------------- 4.2/9.9 MB 2.2 MB/s eta 0:00:03\n",
      "   ------------------- -------------------- 4.7/9.9 MB 2.3 MB/s eta 0:00:03\n",
      "   --------------------- ------------------ 5.2/9.9 MB 2.3 MB/s eta 0:00:03\n",
      "   ---------------------- ----------------- 5.5/9.9 MB 2.3 MB/s eta 0:00:02\n",
      "   ------------------------- -------------- 6.3/9.9 MB 2.3 MB/s eta 0:00:02\n",
      "   --------------------------- ------------ 6.8/9.9 MB 2.4 MB/s eta 0:00:02\n",
      "   ----------------------------- ---------- 7.3/9.9 MB 2.3 MB/s eta 0:00:02\n",
      "   ------------------------------- -------- 7.9/9.9 MB 2.3 MB/s eta 0:00:01\n",
      "   ---------------------------------- ----- 8.4/9.9 MB 2.3 MB/s eta 0:00:01\n",
      "   ------------------------------------ --- 8.9/9.9 MB 2.3 MB/s eta 0:00:01\n",
      "   -------------------------------------- - 9.4/9.9 MB 2.4 MB/s eta 0:00:01\n",
      "   ---------------------------------------- 9.9/9.9 MB 2.4 MB/s eta 0:00:00\n",
      "Using cached pandas-2.2.3-cp39-cp39-win_amd64.whl (11.6 MB)\n",
      "Downloading narwhals-1.32.0-py3-none-any.whl (320 kB)\n",
      "Installing collected packages: patsy, narwhals, plotly, pandas, statsmodels, plotly-express\n",
      "  Attempting uninstall: pandas\n",
      "    Found existing installation: pandas 1.3.0\n",
      "    Uninstalling pandas-1.3.0:\n",
      "      Successfully uninstalled pandas-1.3.0\n",
      "Successfully installed narwhals-1.32.0 pandas-2.2.3 patsy-1.0.1 plotly-6.0.1 plotly-express-0.4.1 statsmodels-0.14.4\n"
     ]
    },
    {
     "name": "stderr",
     "output_type": "stream",
     "text": [
      "  WARNING: Failed to remove contents in a temporary directory 'C:\\Users\\mrhac\\anaconda3\\envs\\sign2\\Lib\\site-packages\\~andas'.\n",
      "  You can safely remove it manually.\n"
     ]
    }
   ],
   "source": [
    "! pip install plotly-express"
   ]
  },
  {
   "cell_type": "code",
   "execution_count": 12,
   "metadata": {},
   "outputs": [],
   "source": [
    "import pandas as pd\n",
    "import numpy as np\n",
    "import plotly.express as px\n",
    "import plotly.graph_objects as go\n",
    "import plotly.io as pio\n",
    "import matplotlib.pyplot as plt\n",
    "\n"
   ]
  },
  {
   "cell_type": "markdown",
   "metadata": {},
   "source": [
    "# 2. Data Set Information\n",
    "1. ID: Unique ID of the record\n",
    "2. Customer_ID: Unique ID of the customer\n",
    "3. Month: Month of the year\n",
    "4. Name: The name of the person\n",
    "5. Age: The age of the person\n",
    "6. SSN: Social Security Number of the person\n",
    "7. Occupation: The occupation of the person\n",
    "8. Annual_Income: The Annual Income of the person\n",
    "9. Monthly_Inhand_Salary: Monthly in-hand salary of the person\n",
    "10. Num_Bank_Accounts: The number of bank accounts of the person\n",
    "11. Num_Credit_Card: Number of credit cards the person is having\n",
    "12. Interest_Rate: The interest rate on the credit card of the person\n",
    "13. Num_of_Loan: The number of loans taken by the person from the bank\n",
    "14. Type_of_Loan: The types of loans taken by the person from the bank\n",
    "15. Delay_from_due_date: The average number of days delayed by the person from the date of payment\n",
    "16. Num_of_Delayed_Payment: Number of payments delayed by the person\n",
    "17. Changed_Credit_Card: The percentage change in the credit card limit of the person\n",
    "18. Num_Credit_Inquiries: The number of credit card inquiries by the person\n",
    "19. Credit_Mix: Classification of Credit Mix of the customer\n",
    "20. Outstanding_Debt: The outstanding balance of the person\n",
    "21. Credit_Utilization_Ratio: The credit utilization ratio of the credit card of the customer\n",
    "22. Credit_History_Age: The age of the credit history of the person\n",
    "23. Payment_of_Min_Amount: Yes if the person paid the minimum amount to be paid only, otherwise no.\n",
    "24. Total_EMI_per_month: The total EMI per month of the person\n",
    "25. Amount_invested_monthly: The monthly amount invested by the person\n",
    "26. Payment_Behaviour: The payment behaviour of the person\n",
    "27. Monthly_Balance: The monthly balance left in the account of the person\n",
    "28. Credit_Score: The credit score of the person\n"
   ]
  },
  {
   "cell_type": "markdown",
   "metadata": {},
   "source": [
    "* **The Credit_Score column is the target variable in this problem. You are required to find relationships based on how banks classify credit scores and train a model to classify the credit score of a person.**"
   ]
  },
  {
   "cell_type": "markdown",
   "metadata": {},
   "source": [
    "### 2.1 Reading Datset"
   ]
  },
  {
   "cell_type": "code",
   "execution_count": 13,
   "metadata": {},
   "outputs": [
    {
     "ename": "AttributeError",
     "evalue": "'Index' object has no attribute '_format_flat'",
     "output_type": "error",
     "traceback": [
      "\u001b[1;31m---------------------------------------------------------------------------\u001b[0m",
      "\u001b[1;31mAttributeError\u001b[0m                            Traceback (most recent call last)",
      "File \u001b[1;32mc:\\Users\\mrhac\\anaconda3\\envs\\sign2\\lib\\site-packages\\IPython\\core\\formatters.py:344\u001b[0m, in \u001b[0;36mBaseFormatter.__call__\u001b[1;34m(self, obj)\u001b[0m\n\u001b[0;32m    342\u001b[0m     method \u001b[38;5;241m=\u001b[39m get_real_method(obj, \u001b[38;5;28mself\u001b[39m\u001b[38;5;241m.\u001b[39mprint_method)\n\u001b[0;32m    343\u001b[0m     \u001b[38;5;28;01mif\u001b[39;00m method \u001b[38;5;129;01mis\u001b[39;00m \u001b[38;5;129;01mnot\u001b[39;00m \u001b[38;5;28;01mNone\u001b[39;00m:\n\u001b[1;32m--> 344\u001b[0m         \u001b[38;5;28;01mreturn\u001b[39;00m \u001b[43mmethod\u001b[49m\u001b[43m(\u001b[49m\u001b[43m)\u001b[49m\n\u001b[0;32m    345\u001b[0m     \u001b[38;5;28;01mreturn\u001b[39;00m \u001b[38;5;28;01mNone\u001b[39;00m\n\u001b[0;32m    346\u001b[0m \u001b[38;5;28;01melse\u001b[39;00m:\n",
      "File \u001b[1;32mc:\\Users\\mrhac\\anaconda3\\envs\\sign2\\lib\\site-packages\\pandas\\core\\frame.py:1047\u001b[0m, in \u001b[0;36m_repr_html_\u001b[1;34m(self)\u001b[0m\n\u001b[0;32m   1032\u001b[0m \u001b[38;5;250m    \u001b[39m\u001b[38;5;124;03m\"\"\"\u001b[39;00m\n\u001b[0;32m   1033\u001b[0m \u001b[38;5;124;03m    Return a list representing the axes of the DataFrame.\u001b[39;00m\n\u001b[0;32m   1034\u001b[0m \n\u001b[1;32m   (...)\u001b[0m\n\u001b[0;32m   1043\u001b[0m \u001b[38;5;124;03m    dtype='object')]\u001b[39;00m\n\u001b[0;32m   1044\u001b[0m \u001b[38;5;124;03m    \"\"\"\u001b[39;00m\n\u001b[0;32m   1045\u001b[0m     \u001b[38;5;28;01mreturn\u001b[39;00m [\u001b[38;5;28mself\u001b[39m\u001b[38;5;241m.\u001b[39mindex, \u001b[38;5;28mself\u001b[39m\u001b[38;5;241m.\u001b[39mcolumns]\n\u001b[1;32m-> 1047\u001b[0m \u001b[38;5;129m@property\u001b[39m\n\u001b[0;32m   1048\u001b[0m \u001b[38;5;28;01mdef\u001b[39;00m\u001b[38;5;250m \u001b[39m\u001b[38;5;21mshape\u001b[39m(\u001b[38;5;28mself\u001b[39m) \u001b[38;5;241m-\u001b[39m\u001b[38;5;241m>\u001b[39m \u001b[38;5;28mtuple\u001b[39m[\u001b[38;5;28mint\u001b[39m, \u001b[38;5;28mint\u001b[39m]:\n\u001b[0;32m   1049\u001b[0m \u001b[38;5;250m    \u001b[39m\u001b[38;5;124;03m\"\"\"\u001b[39;00m\n\u001b[0;32m   1050\u001b[0m \u001b[38;5;124;03m    Return a tuple representing the dimensionality of the DataFrame.\u001b[39;00m\n\u001b[0;32m   1051\u001b[0m \n\u001b[1;32m   (...)\u001b[0m\n\u001b[0;32m   1065\u001b[0m \u001b[38;5;124;03m    (2, 3)\u001b[39;00m\n\u001b[0;32m   1066\u001b[0m \u001b[38;5;124;03m    \"\"\"\u001b[39;00m\n\u001b[0;32m   1067\u001b[0m     \u001b[38;5;28;01mreturn\u001b[39;00m \u001b[38;5;28mlen\u001b[39m(\u001b[38;5;28mself\u001b[39m\u001b[38;5;241m.\u001b[39mindex), \u001b[38;5;28mlen\u001b[39m(\u001b[38;5;28mself\u001b[39m\u001b[38;5;241m.\u001b[39mcolumns)\n",
      "File \u001b[1;32mc:\\Users\\mrhac\\anaconda3\\envs\\sign2\\lib\\site-packages\\pandas\\io\\formats\\format.py:1029\u001b[0m, in \u001b[0;36mto_html\u001b[1;34m(self, buf, encoding, classes, notebook, border, table_id, render_links)\u001b[0m\n\u001b[0;32m   1020\u001b[0m             \u001b[38;5;28;01mreturn\u001b[39;00m content\n\u001b[0;32m   1022\u001b[0m         \u001b[38;5;28;01mreturn\u001b[39;00m \u001b[38;5;28;01mNone\u001b[39;00m\n\u001b[0;32m   1025\u001b[0m \u001b[38;5;28;01mdef\u001b[39;00m\u001b[38;5;250m \u001b[39m\u001b[38;5;21msave_to_buffer\u001b[39m(\n\u001b[0;32m   1026\u001b[0m     string: \u001b[38;5;28mstr\u001b[39m,\n\u001b[0;32m   1027\u001b[0m     buf: FilePath \u001b[38;5;241m|\u001b[39m WriteBuffer[\u001b[38;5;28mstr\u001b[39m] \u001b[38;5;241m|\u001b[39m \u001b[38;5;28;01mNone\u001b[39;00m \u001b[38;5;241m=\u001b[39m \u001b[38;5;28;01mNone\u001b[39;00m,\n\u001b[0;32m   1028\u001b[0m     encoding: \u001b[38;5;28mstr\u001b[39m \u001b[38;5;241m|\u001b[39m \u001b[38;5;28;01mNone\u001b[39;00m \u001b[38;5;241m=\u001b[39m \u001b[38;5;28;01mNone\u001b[39;00m,\n\u001b[1;32m-> 1029\u001b[0m ) \u001b[38;5;241m-\u001b[39m\u001b[38;5;241m>\u001b[39m \u001b[38;5;28mstr\u001b[39m \u001b[38;5;241m|\u001b[39m \u001b[38;5;28;01mNone\u001b[39;00m:\n\u001b[0;32m   1030\u001b[0m \u001b[38;5;250m    \u001b[39m\u001b[38;5;124;03m\"\"\"\u001b[39;00m\n\u001b[0;32m   1031\u001b[0m \u001b[38;5;124;03m    Perform serialization. Write to buf or return as string if buf is None.\u001b[39;00m\n\u001b[0;32m   1032\u001b[0m \u001b[38;5;124;03m    \"\"\"\u001b[39;00m\n\u001b[0;32m   1033\u001b[0m     \u001b[38;5;28;01mwith\u001b[39;00m _get_buffer(buf, encoding\u001b[38;5;241m=\u001b[39mencoding) \u001b[38;5;28;01mas\u001b[39;00m fd:\n",
      "File \u001b[1;32mc:\\Users\\mrhac\\anaconda3\\envs\\sign2\\lib\\site-packages\\pandas\\io\\formats\\html.py:88\u001b[0m, in \u001b[0;36mHTMLFormatter.to_string\u001b[1;34m(self)\u001b[0m\n\u001b[0;32m     87\u001b[0m \u001b[38;5;28;01mdef\u001b[39;00m\u001b[38;5;250m \u001b[39m\u001b[38;5;21mto_string\u001b[39m(\u001b[38;5;28mself\u001b[39m) \u001b[38;5;241m-\u001b[39m\u001b[38;5;241m>\u001b[39m \u001b[38;5;28mstr\u001b[39m:\n\u001b[1;32m---> 88\u001b[0m     lines \u001b[38;5;241m=\u001b[39m \u001b[38;5;28;43mself\u001b[39;49m\u001b[38;5;241;43m.\u001b[39;49m\u001b[43mrender\u001b[49m\u001b[43m(\u001b[49m\u001b[43m)\u001b[49m\n\u001b[0;32m     89\u001b[0m     \u001b[38;5;28;01mif\u001b[39;00m \u001b[38;5;28many\u001b[39m(\u001b[38;5;28misinstance\u001b[39m(x, \u001b[38;5;28mstr\u001b[39m) \u001b[38;5;28;01mfor\u001b[39;00m x \u001b[38;5;129;01min\u001b[39;00m lines):\n\u001b[0;32m     90\u001b[0m         lines \u001b[38;5;241m=\u001b[39m [\u001b[38;5;28mstr\u001b[39m(x) \u001b[38;5;28;01mfor\u001b[39;00m x \u001b[38;5;129;01min\u001b[39;00m lines]\n",
      "File \u001b[1;32mc:\\Users\\mrhac\\anaconda3\\envs\\sign2\\lib\\site-packages\\pandas\\io\\formats\\html.py:644\u001b[0m, in \u001b[0;36mNotebookFormatter.render\u001b[1;34m(self)\u001b[0m\n\u001b[0;32m    642\u001b[0m \u001b[38;5;28mself\u001b[39m\u001b[38;5;241m.\u001b[39mwrite(\u001b[38;5;124m\"\u001b[39m\u001b[38;5;124m<div>\u001b[39m\u001b[38;5;124m\"\u001b[39m)\n\u001b[0;32m    643\u001b[0m \u001b[38;5;28mself\u001b[39m\u001b[38;5;241m.\u001b[39mwrite_style()\n\u001b[1;32m--> 644\u001b[0m \u001b[38;5;28;43msuper\u001b[39;49m\u001b[43m(\u001b[49m\u001b[43m)\u001b[49m\u001b[38;5;241;43m.\u001b[39;49m\u001b[43mrender\u001b[49m\u001b[43m(\u001b[49m\u001b[43m)\u001b[49m\n\u001b[0;32m    645\u001b[0m \u001b[38;5;28mself\u001b[39m\u001b[38;5;241m.\u001b[39mwrite(\u001b[38;5;124m\"\u001b[39m\u001b[38;5;124m</div>\u001b[39m\u001b[38;5;124m\"\u001b[39m)\n\u001b[0;32m    646\u001b[0m \u001b[38;5;28;01mreturn\u001b[39;00m \u001b[38;5;28mself\u001b[39m\u001b[38;5;241m.\u001b[39melements\n",
      "File \u001b[1;32mc:\\Users\\mrhac\\anaconda3\\envs\\sign2\\lib\\site-packages\\pandas\\io\\formats\\html.py:94\u001b[0m, in \u001b[0;36mHTMLFormatter.render\u001b[1;34m(self)\u001b[0m\n\u001b[0;32m     93\u001b[0m \u001b[38;5;28;01mdef\u001b[39;00m\u001b[38;5;250m \u001b[39m\u001b[38;5;21mrender\u001b[39m(\u001b[38;5;28mself\u001b[39m) \u001b[38;5;241m-\u001b[39m\u001b[38;5;241m>\u001b[39m \u001b[38;5;28mlist\u001b[39m[\u001b[38;5;28mstr\u001b[39m]:\n\u001b[1;32m---> 94\u001b[0m     \u001b[38;5;28;43mself\u001b[39;49m\u001b[38;5;241;43m.\u001b[39;49m\u001b[43m_write_table\u001b[49m\u001b[43m(\u001b[49m\u001b[43m)\u001b[49m\n\u001b[0;32m     96\u001b[0m     \u001b[38;5;28;01mif\u001b[39;00m \u001b[38;5;28mself\u001b[39m\u001b[38;5;241m.\u001b[39mshould_show_dimensions:\n\u001b[0;32m     97\u001b[0m         by \u001b[38;5;241m=\u001b[39m \u001b[38;5;28mchr\u001b[39m(\u001b[38;5;241m215\u001b[39m)  \u001b[38;5;66;03m# ×  # noqa: RUF003\u001b[39;00m\n",
      "File \u001b[1;32mc:\\Users\\mrhac\\anaconda3\\envs\\sign2\\lib\\site-packages\\pandas\\io\\formats\\html.py:267\u001b[0m, in \u001b[0;36mHTMLFormatter._write_table\u001b[1;34m(self, indent)\u001b[0m\n\u001b[0;32m    261\u001b[0m \u001b[38;5;28mself\u001b[39m\u001b[38;5;241m.\u001b[39mwrite(\n\u001b[0;32m    262\u001b[0m     \u001b[38;5;124mf\u001b[39m\u001b[38;5;124m'\u001b[39m\u001b[38;5;124m<table\u001b[39m\u001b[38;5;132;01m{\u001b[39;00mborder_attr\u001b[38;5;132;01m}\u001b[39;00m\u001b[38;5;124m class=\u001b[39m\u001b[38;5;124m\"\u001b[39m\u001b[38;5;132;01m{\u001b[39;00m\u001b[38;5;124m\"\u001b[39m\u001b[38;5;124m \u001b[39m\u001b[38;5;124m\"\u001b[39m\u001b[38;5;241m.\u001b[39mjoin(_classes)\u001b[38;5;132;01m}\u001b[39;00m\u001b[38;5;124m\"\u001b[39m\u001b[38;5;132;01m{\u001b[39;00mid_section\u001b[38;5;132;01m}\u001b[39;00m\u001b[38;5;124m>\u001b[39m\u001b[38;5;124m'\u001b[39m,\n\u001b[0;32m    263\u001b[0m     indent,\n\u001b[0;32m    264\u001b[0m )\n\u001b[0;32m    266\u001b[0m \u001b[38;5;28;01mif\u001b[39;00m \u001b[38;5;28mself\u001b[39m\u001b[38;5;241m.\u001b[39mfmt\u001b[38;5;241m.\u001b[39mheader \u001b[38;5;129;01mor\u001b[39;00m \u001b[38;5;28mself\u001b[39m\u001b[38;5;241m.\u001b[39mshow_row_idx_names:\n\u001b[1;32m--> 267\u001b[0m     \u001b[38;5;28;43mself\u001b[39;49m\u001b[38;5;241;43m.\u001b[39;49m\u001b[43m_write_header\u001b[49m\u001b[43m(\u001b[49m\u001b[43mindent\u001b[49m\u001b[43m \u001b[49m\u001b[38;5;241;43m+\u001b[39;49m\u001b[43m \u001b[49m\u001b[38;5;28;43mself\u001b[39;49m\u001b[38;5;241;43m.\u001b[39;49m\u001b[43mindent_delta\u001b[49m\u001b[43m)\u001b[49m\n\u001b[0;32m    269\u001b[0m \u001b[38;5;28mself\u001b[39m\u001b[38;5;241m.\u001b[39m_write_body(indent \u001b[38;5;241m+\u001b[39m \u001b[38;5;28mself\u001b[39m\u001b[38;5;241m.\u001b[39mindent_delta)\n\u001b[0;32m    271\u001b[0m \u001b[38;5;28mself\u001b[39m\u001b[38;5;241m.\u001b[39mwrite(\u001b[38;5;124m\"\u001b[39m\u001b[38;5;124m</table>\u001b[39m\u001b[38;5;124m\"\u001b[39m, indent)\n",
      "File \u001b[1;32mc:\\Users\\mrhac\\anaconda3\\envs\\sign2\\lib\\site-packages\\pandas\\io\\formats\\html.py:403\u001b[0m, in \u001b[0;36mHTMLFormatter._write_header\u001b[1;34m(self, indent)\u001b[0m\n\u001b[0;32m    400\u001b[0m \u001b[38;5;28mself\u001b[39m\u001b[38;5;241m.\u001b[39mwrite(\u001b[38;5;124m\"\u001b[39m\u001b[38;5;124m<thead>\u001b[39m\u001b[38;5;124m\"\u001b[39m, indent)\n\u001b[0;32m    402\u001b[0m \u001b[38;5;28;01mif\u001b[39;00m \u001b[38;5;28mself\u001b[39m\u001b[38;5;241m.\u001b[39mfmt\u001b[38;5;241m.\u001b[39mheader:\n\u001b[1;32m--> 403\u001b[0m     \u001b[38;5;28;43mself\u001b[39;49m\u001b[38;5;241;43m.\u001b[39;49m\u001b[43m_write_col_header\u001b[49m\u001b[43m(\u001b[49m\u001b[43mindent\u001b[49m\u001b[43m \u001b[49m\u001b[38;5;241;43m+\u001b[39;49m\u001b[43m \u001b[49m\u001b[38;5;28;43mself\u001b[39;49m\u001b[38;5;241;43m.\u001b[39;49m\u001b[43mindent_delta\u001b[49m\u001b[43m)\u001b[49m\n\u001b[0;32m    405\u001b[0m \u001b[38;5;28;01mif\u001b[39;00m \u001b[38;5;28mself\u001b[39m\u001b[38;5;241m.\u001b[39mshow_row_idx_names:\n\u001b[0;32m    406\u001b[0m     \u001b[38;5;28mself\u001b[39m\u001b[38;5;241m.\u001b[39m_write_row_header(indent \u001b[38;5;241m+\u001b[39m \u001b[38;5;28mself\u001b[39m\u001b[38;5;241m.\u001b[39mindent_delta)\n",
      "File \u001b[1;32mc:\\Users\\mrhac\\anaconda3\\envs\\sign2\\lib\\site-packages\\pandas\\io\\formats\\html.py:383\u001b[0m, in \u001b[0;36mHTMLFormatter._write_col_header\u001b[1;34m(self, indent)\u001b[0m\n\u001b[0;32m    381\u001b[0m     \u001b[38;5;28;01melse\u001b[39;00m:\n\u001b[0;32m    382\u001b[0m         row\u001b[38;5;241m.\u001b[39mappend(\u001b[38;5;124m\"\u001b[39m\u001b[38;5;124m\"\u001b[39m)\n\u001b[1;32m--> 383\u001b[0m row\u001b[38;5;241m.\u001b[39mextend(\u001b[38;5;28;43mself\u001b[39;49m\u001b[38;5;241;43m.\u001b[39;49m\u001b[43m_get_columns_formatted_values\u001b[49m\u001b[43m(\u001b[49m\u001b[43m)\u001b[49m)\n\u001b[0;32m    384\u001b[0m align \u001b[38;5;241m=\u001b[39m \u001b[38;5;28mself\u001b[39m\u001b[38;5;241m.\u001b[39mfmt\u001b[38;5;241m.\u001b[39mjustify\n\u001b[0;32m    386\u001b[0m \u001b[38;5;28;01mif\u001b[39;00m is_truncated_horizontally:\n",
      "File \u001b[1;32mc:\\Users\\mrhac\\anaconda3\\envs\\sign2\\lib\\site-packages\\pandas\\io\\formats\\html.py:611\u001b[0m, in \u001b[0;36mNotebookFormatter._get_columns_formatted_values\u001b[1;34m(self)\u001b[0m\n\u001b[0;32m    609\u001b[0m \u001b[38;5;28;01mdef\u001b[39;00m\u001b[38;5;250m \u001b[39m\u001b[38;5;21m_get_columns_formatted_values\u001b[39m(\u001b[38;5;28mself\u001b[39m) \u001b[38;5;241m-\u001b[39m\u001b[38;5;241m>\u001b[39m \u001b[38;5;28mlist\u001b[39m[\u001b[38;5;28mstr\u001b[39m]:\n\u001b[0;32m    610\u001b[0m     \u001b[38;5;66;03m# only reached with non-Multi Index\u001b[39;00m\n\u001b[1;32m--> 611\u001b[0m     \u001b[38;5;28;01mreturn\u001b[39;00m \u001b[38;5;28;43mself\u001b[39;49m\u001b[38;5;241;43m.\u001b[39;49m\u001b[43mcolumns\u001b[49m\u001b[38;5;241;43m.\u001b[39;49m\u001b[43m_format_flat\u001b[49m(include_name\u001b[38;5;241m=\u001b[39m\u001b[38;5;28;01mFalse\u001b[39;00m)\n",
      "\u001b[1;31mAttributeError\u001b[0m: 'Index' object has no attribute '_format_flat'"
     ]
    },
    {
     "data": {
      "text/plain": [
       "      ID  Customer_ID  Month             Name   Age          SSN Occupation  \\\n",
       "0   5634         3392      1    Aaron Maashoh  23.0  821000265.0  Scientist   \n",
       "1   5635         3392      2    Aaron Maashoh  23.0  821000265.0  Scientist   \n",
       "2   5636         3392      3    Aaron Maashoh  23.0  821000265.0  Scientist   \n",
       "3   5637         3392      4    Aaron Maashoh  23.0  821000265.0  Scientist   \n",
       "4   5638         3392      5    Aaron Maashoh  23.0  821000265.0  Scientist   \n",
       "5   5639         3392      6    Aaron Maashoh  23.0  821000265.0  Scientist   \n",
       "6   5640         3392      7    Aaron Maashoh  23.0  821000265.0  Scientist   \n",
       "7   5641         3392      8    Aaron Maashoh  23.0  821000265.0  Scientist   \n",
       "8   5646         8625      1  Rick Rothackerj  28.0    4075839.0    Teacher   \n",
       "9   5647         8625      2  Rick Rothackerj  28.0    4075839.0    Teacher   \n",
       "10  5648         8625      3  Rick Rothackerj  28.0    4075839.0    Teacher   \n",
       "\n",
       "    Annual_Income  Monthly_Inhand_Salary  Num_Bank_Accounts  ...  Credit_Mix  \\\n",
       "0        19114.12            1824.843333                3.0  ...        Good   \n",
       "1        19114.12            1824.843333                3.0  ...        Good   \n",
       "2        19114.12            1824.843333                3.0  ...        Good   \n",
       "3        19114.12            1824.843333                3.0  ...        Good   \n",
       "4        19114.12            1824.843333                3.0  ...        Good   \n",
       "5        19114.12            1824.843333                3.0  ...        Good   \n",
       "6        19114.12            1824.843333                3.0  ...        Good   \n",
       "7        19114.12            1824.843333                3.0  ...        Good   \n",
       "8        34847.84            3037.986667                2.0  ...        Good   \n",
       "9        34847.84            3037.986667                2.0  ...        Good   \n",
       "10       34847.84            3037.986667                2.0  ...        Good   \n",
       "\n",
       "    Outstanding_Debt  Credit_Utilization_Ratio Credit_History_Age  \\\n",
       "0             809.98                 26.822620              265.0   \n",
       "1             809.98                 31.944960              266.0   \n",
       "2             809.98                 28.609352              267.0   \n",
       "3             809.98                 31.377862              268.0   \n",
       "4             809.98                 24.797347              269.0   \n",
       "5             809.98                 27.262259              270.0   \n",
       "6             809.98                 22.537593              271.0   \n",
       "7             809.98                 23.933795              272.0   \n",
       "8             605.03                 24.464031              319.0   \n",
       "9             605.03                 38.550848              320.0   \n",
       "10            605.03                 33.224951              321.0   \n",
       "\n",
       "    Payment_of_Min_Amount  Total_EMI_per_month  Amount_invested_monthly  \\\n",
       "0                      No            49.574949                21.465380   \n",
       "1                      No            49.574949                21.465380   \n",
       "2                      No            49.574949                21.465380   \n",
       "3                      No            49.574949                21.465380   \n",
       "4                      No            49.574949                21.465380   \n",
       "5                      No            49.574949                21.465380   \n",
       "6                      No            49.574949                21.465380   \n",
       "7                      No            49.574949                21.465380   \n",
       "8                      No            18.816215                39.684018   \n",
       "9                      No            18.816215                39.684018   \n",
       "10                     No            18.816215                39.684018   \n",
       "\n",
       "                   Payment_Behaviour Monthly_Balance  Credit_Score  \n",
       "0    High_spent_Small_value_payments      312.494089          Good  \n",
       "1     Low_spent_Large_value_payments      284.629162          Good  \n",
       "2    Low_spent_Medium_value_payments      331.209863          Good  \n",
       "3     Low_spent_Small_value_payments      223.451310          Good  \n",
       "4   High_spent_Medium_value_payments      341.489231          Good  \n",
       "5   High_spent_Medium_value_payments      340.479212          Good  \n",
       "6     Low_spent_Small_value_payments      244.565317          Good  \n",
       "7   High_spent_Medium_value_payments      358.124168      Standard  \n",
       "8     Low_spent_Small_value_payments      470.690627      Standard  \n",
       "9    High_spent_Large_value_payments      484.591214          Good  \n",
       "10   High_spent_Large_value_payments      466.466476      Standard  \n",
       "\n",
       "[11 rows x 28 columns]"
      ]
     },
     "execution_count": 13,
     "metadata": {},
     "output_type": "execute_result"
    }
   ],
   "source": [
    "data=pd.read_csv(\"train.csv\")\n",
    "data.head(11)"
   ]
  },
  {
   "cell_type": "markdown",
   "metadata": {},
   "source": [
    "* Let’s have a look at the information about the columns in the dataset:"
   ]
  },
  {
   "cell_type": "code",
   "execution_count": 14,
   "metadata": {},
   "outputs": [
    {
     "data": {
      "text/plain": [
       "(100000, 28)"
      ]
     },
     "execution_count": 14,
     "metadata": {},
     "output_type": "execute_result"
    }
   ],
   "source": [
    "data.shape"
   ]
  },
  {
   "cell_type": "markdown",
   "metadata": {},
   "source": [
    "* The DataSet Contain Observation => 100000 , Feature => 28"
   ]
  },
  {
   "cell_type": "code",
   "execution_count": 15,
   "metadata": {},
   "outputs": [
    {
     "name": "stdout",
     "output_type": "stream",
     "text": [
      "<class 'pandas.core.frame.DataFrame'>\n",
      "RangeIndex: 100000 entries, 0 to 99999\n",
      "Data columns (total 28 columns):\n",
      " #   Column                    Non-Null Count   Dtype  \n",
      "---  ------                    --------------   -----  \n",
      " 0   ID                        100000 non-null  int64  \n",
      " 1   Customer_ID               100000 non-null  int64  \n",
      " 2   Month                     100000 non-null  int64  \n",
      " 3   Name                      100000 non-null  object \n",
      " 4   Age                       100000 non-null  float64\n",
      " 5   SSN                       100000 non-null  float64\n",
      " 6   Occupation                100000 non-null  object \n",
      " 7   Annual_Income             100000 non-null  float64\n",
      " 8   Monthly_Inhand_Salary     100000 non-null  float64\n",
      " 9   Num_Bank_Accounts         100000 non-null  float64\n",
      " 10  Num_Credit_Card           100000 non-null  float64\n",
      " 11  Interest_Rate             100000 non-null  float64\n",
      " 12  Num_of_Loan               100000 non-null  float64\n",
      " 13  Type_of_Loan              100000 non-null  object \n",
      " 14  Delay_from_due_date       100000 non-null  float64\n",
      " 15  Num_of_Delayed_Payment    100000 non-null  float64\n",
      " 16  Changed_Credit_Limit      100000 non-null  float64\n",
      " 17  Num_Credit_Inquiries      100000 non-null  float64\n",
      " 18  Credit_Mix                100000 non-null  object \n",
      " 19  Outstanding_Debt          100000 non-null  float64\n",
      " 20  Credit_Utilization_Ratio  100000 non-null  float64\n",
      " 21  Credit_History_Age        100000 non-null  float64\n",
      " 22  Payment_of_Min_Amount     100000 non-null  object \n",
      " 23  Total_EMI_per_month       100000 non-null  float64\n",
      " 24  Amount_invested_monthly   100000 non-null  float64\n",
      " 25  Payment_Behaviour         100000 non-null  object \n",
      " 26  Monthly_Balance           100000 non-null  float64\n",
      " 27  Credit_Score              100000 non-null  object \n",
      "dtypes: float64(18), int64(3), object(7)\n",
      "memory usage: 21.4+ MB\n"
     ]
    }
   ],
   "source": [
    "data.info()"
   ]
  },
  {
   "cell_type": "markdown",
   "metadata": {},
   "source": [
    "* Some Feature is Object and some numeric "
   ]
  },
  {
   "cell_type": "code",
   "execution_count": 16,
   "metadata": {},
   "outputs": [
    {
     "ename": "AttributeError",
     "evalue": "'Index' object has no attribute '_format_flat'",
     "output_type": "error",
     "traceback": [
      "\u001b[1;31m---------------------------------------------------------------------------\u001b[0m",
      "\u001b[1;31mAttributeError\u001b[0m                            Traceback (most recent call last)",
      "File \u001b[1;32mc:\\Users\\mrhac\\anaconda3\\envs\\sign2\\lib\\site-packages\\IPython\\core\\formatters.py:344\u001b[0m, in \u001b[0;36mBaseFormatter.__call__\u001b[1;34m(self, obj)\u001b[0m\n\u001b[0;32m    342\u001b[0m     method \u001b[38;5;241m=\u001b[39m get_real_method(obj, \u001b[38;5;28mself\u001b[39m\u001b[38;5;241m.\u001b[39mprint_method)\n\u001b[0;32m    343\u001b[0m     \u001b[38;5;28;01mif\u001b[39;00m method \u001b[38;5;129;01mis\u001b[39;00m \u001b[38;5;129;01mnot\u001b[39;00m \u001b[38;5;28;01mNone\u001b[39;00m:\n\u001b[1;32m--> 344\u001b[0m         \u001b[38;5;28;01mreturn\u001b[39;00m \u001b[43mmethod\u001b[49m\u001b[43m(\u001b[49m\u001b[43m)\u001b[49m\n\u001b[0;32m    345\u001b[0m     \u001b[38;5;28;01mreturn\u001b[39;00m \u001b[38;5;28;01mNone\u001b[39;00m\n\u001b[0;32m    346\u001b[0m \u001b[38;5;28;01melse\u001b[39;00m:\n",
      "File \u001b[1;32mc:\\Users\\mrhac\\anaconda3\\envs\\sign2\\lib\\site-packages\\pandas\\core\\frame.py:1047\u001b[0m, in \u001b[0;36m_repr_html_\u001b[1;34m(self)\u001b[0m\n\u001b[0;32m   1032\u001b[0m \u001b[38;5;250m    \u001b[39m\u001b[38;5;124;03m\"\"\"\u001b[39;00m\n\u001b[0;32m   1033\u001b[0m \u001b[38;5;124;03m    Return a list representing the axes of the DataFrame.\u001b[39;00m\n\u001b[0;32m   1034\u001b[0m \n\u001b[1;32m   (...)\u001b[0m\n\u001b[0;32m   1043\u001b[0m \u001b[38;5;124;03m    dtype='object')]\u001b[39;00m\n\u001b[0;32m   1044\u001b[0m \u001b[38;5;124;03m    \"\"\"\u001b[39;00m\n\u001b[0;32m   1045\u001b[0m     \u001b[38;5;28;01mreturn\u001b[39;00m [\u001b[38;5;28mself\u001b[39m\u001b[38;5;241m.\u001b[39mindex, \u001b[38;5;28mself\u001b[39m\u001b[38;5;241m.\u001b[39mcolumns]\n\u001b[1;32m-> 1047\u001b[0m \u001b[38;5;129m@property\u001b[39m\n\u001b[0;32m   1048\u001b[0m \u001b[38;5;28;01mdef\u001b[39;00m\u001b[38;5;250m \u001b[39m\u001b[38;5;21mshape\u001b[39m(\u001b[38;5;28mself\u001b[39m) \u001b[38;5;241m-\u001b[39m\u001b[38;5;241m>\u001b[39m \u001b[38;5;28mtuple\u001b[39m[\u001b[38;5;28mint\u001b[39m, \u001b[38;5;28mint\u001b[39m]:\n\u001b[0;32m   1049\u001b[0m \u001b[38;5;250m    \u001b[39m\u001b[38;5;124;03m\"\"\"\u001b[39;00m\n\u001b[0;32m   1050\u001b[0m \u001b[38;5;124;03m    Return a tuple representing the dimensionality of the DataFrame.\u001b[39;00m\n\u001b[0;32m   1051\u001b[0m \n\u001b[1;32m   (...)\u001b[0m\n\u001b[0;32m   1065\u001b[0m \u001b[38;5;124;03m    (2, 3)\u001b[39;00m\n\u001b[0;32m   1066\u001b[0m \u001b[38;5;124;03m    \"\"\"\u001b[39;00m\n\u001b[0;32m   1067\u001b[0m     \u001b[38;5;28;01mreturn\u001b[39;00m \u001b[38;5;28mlen\u001b[39m(\u001b[38;5;28mself\u001b[39m\u001b[38;5;241m.\u001b[39mindex), \u001b[38;5;28mlen\u001b[39m(\u001b[38;5;28mself\u001b[39m\u001b[38;5;241m.\u001b[39mcolumns)\n",
      "File \u001b[1;32mc:\\Users\\mrhac\\anaconda3\\envs\\sign2\\lib\\site-packages\\pandas\\io\\formats\\format.py:1029\u001b[0m, in \u001b[0;36mto_html\u001b[1;34m(self, buf, encoding, classes, notebook, border, table_id, render_links)\u001b[0m\n\u001b[0;32m   1020\u001b[0m             \u001b[38;5;28;01mreturn\u001b[39;00m content\n\u001b[0;32m   1022\u001b[0m         \u001b[38;5;28;01mreturn\u001b[39;00m \u001b[38;5;28;01mNone\u001b[39;00m\n\u001b[0;32m   1025\u001b[0m \u001b[38;5;28;01mdef\u001b[39;00m\u001b[38;5;250m \u001b[39m\u001b[38;5;21msave_to_buffer\u001b[39m(\n\u001b[0;32m   1026\u001b[0m     string: \u001b[38;5;28mstr\u001b[39m,\n\u001b[0;32m   1027\u001b[0m     buf: FilePath \u001b[38;5;241m|\u001b[39m WriteBuffer[\u001b[38;5;28mstr\u001b[39m] \u001b[38;5;241m|\u001b[39m \u001b[38;5;28;01mNone\u001b[39;00m \u001b[38;5;241m=\u001b[39m \u001b[38;5;28;01mNone\u001b[39;00m,\n\u001b[0;32m   1028\u001b[0m     encoding: \u001b[38;5;28mstr\u001b[39m \u001b[38;5;241m|\u001b[39m \u001b[38;5;28;01mNone\u001b[39;00m \u001b[38;5;241m=\u001b[39m \u001b[38;5;28;01mNone\u001b[39;00m,\n\u001b[1;32m-> 1029\u001b[0m ) \u001b[38;5;241m-\u001b[39m\u001b[38;5;241m>\u001b[39m \u001b[38;5;28mstr\u001b[39m \u001b[38;5;241m|\u001b[39m \u001b[38;5;28;01mNone\u001b[39;00m:\n\u001b[0;32m   1030\u001b[0m \u001b[38;5;250m    \u001b[39m\u001b[38;5;124;03m\"\"\"\u001b[39;00m\n\u001b[0;32m   1031\u001b[0m \u001b[38;5;124;03m    Perform serialization. Write to buf or return as string if buf is None.\u001b[39;00m\n\u001b[0;32m   1032\u001b[0m \u001b[38;5;124;03m    \"\"\"\u001b[39;00m\n\u001b[0;32m   1033\u001b[0m     \u001b[38;5;28;01mwith\u001b[39;00m _get_buffer(buf, encoding\u001b[38;5;241m=\u001b[39mencoding) \u001b[38;5;28;01mas\u001b[39;00m fd:\n",
      "File \u001b[1;32mc:\\Users\\mrhac\\anaconda3\\envs\\sign2\\lib\\site-packages\\pandas\\io\\formats\\html.py:88\u001b[0m, in \u001b[0;36mHTMLFormatter.to_string\u001b[1;34m(self)\u001b[0m\n\u001b[0;32m     87\u001b[0m \u001b[38;5;28;01mdef\u001b[39;00m\u001b[38;5;250m \u001b[39m\u001b[38;5;21mto_string\u001b[39m(\u001b[38;5;28mself\u001b[39m) \u001b[38;5;241m-\u001b[39m\u001b[38;5;241m>\u001b[39m \u001b[38;5;28mstr\u001b[39m:\n\u001b[1;32m---> 88\u001b[0m     lines \u001b[38;5;241m=\u001b[39m \u001b[38;5;28;43mself\u001b[39;49m\u001b[38;5;241;43m.\u001b[39;49m\u001b[43mrender\u001b[49m\u001b[43m(\u001b[49m\u001b[43m)\u001b[49m\n\u001b[0;32m     89\u001b[0m     \u001b[38;5;28;01mif\u001b[39;00m \u001b[38;5;28many\u001b[39m(\u001b[38;5;28misinstance\u001b[39m(x, \u001b[38;5;28mstr\u001b[39m) \u001b[38;5;28;01mfor\u001b[39;00m x \u001b[38;5;129;01min\u001b[39;00m lines):\n\u001b[0;32m     90\u001b[0m         lines \u001b[38;5;241m=\u001b[39m [\u001b[38;5;28mstr\u001b[39m(x) \u001b[38;5;28;01mfor\u001b[39;00m x \u001b[38;5;129;01min\u001b[39;00m lines]\n",
      "File \u001b[1;32mc:\\Users\\mrhac\\anaconda3\\envs\\sign2\\lib\\site-packages\\pandas\\io\\formats\\html.py:644\u001b[0m, in \u001b[0;36mNotebookFormatter.render\u001b[1;34m(self)\u001b[0m\n\u001b[0;32m    642\u001b[0m \u001b[38;5;28mself\u001b[39m\u001b[38;5;241m.\u001b[39mwrite(\u001b[38;5;124m\"\u001b[39m\u001b[38;5;124m<div>\u001b[39m\u001b[38;5;124m\"\u001b[39m)\n\u001b[0;32m    643\u001b[0m \u001b[38;5;28mself\u001b[39m\u001b[38;5;241m.\u001b[39mwrite_style()\n\u001b[1;32m--> 644\u001b[0m \u001b[38;5;28;43msuper\u001b[39;49m\u001b[43m(\u001b[49m\u001b[43m)\u001b[49m\u001b[38;5;241;43m.\u001b[39;49m\u001b[43mrender\u001b[49m\u001b[43m(\u001b[49m\u001b[43m)\u001b[49m\n\u001b[0;32m    645\u001b[0m \u001b[38;5;28mself\u001b[39m\u001b[38;5;241m.\u001b[39mwrite(\u001b[38;5;124m\"\u001b[39m\u001b[38;5;124m</div>\u001b[39m\u001b[38;5;124m\"\u001b[39m)\n\u001b[0;32m    646\u001b[0m \u001b[38;5;28;01mreturn\u001b[39;00m \u001b[38;5;28mself\u001b[39m\u001b[38;5;241m.\u001b[39melements\n",
      "File \u001b[1;32mc:\\Users\\mrhac\\anaconda3\\envs\\sign2\\lib\\site-packages\\pandas\\io\\formats\\html.py:94\u001b[0m, in \u001b[0;36mHTMLFormatter.render\u001b[1;34m(self)\u001b[0m\n\u001b[0;32m     93\u001b[0m \u001b[38;5;28;01mdef\u001b[39;00m\u001b[38;5;250m \u001b[39m\u001b[38;5;21mrender\u001b[39m(\u001b[38;5;28mself\u001b[39m) \u001b[38;5;241m-\u001b[39m\u001b[38;5;241m>\u001b[39m \u001b[38;5;28mlist\u001b[39m[\u001b[38;5;28mstr\u001b[39m]:\n\u001b[1;32m---> 94\u001b[0m     \u001b[38;5;28;43mself\u001b[39;49m\u001b[38;5;241;43m.\u001b[39;49m\u001b[43m_write_table\u001b[49m\u001b[43m(\u001b[49m\u001b[43m)\u001b[49m\n\u001b[0;32m     96\u001b[0m     \u001b[38;5;28;01mif\u001b[39;00m \u001b[38;5;28mself\u001b[39m\u001b[38;5;241m.\u001b[39mshould_show_dimensions:\n\u001b[0;32m     97\u001b[0m         by \u001b[38;5;241m=\u001b[39m \u001b[38;5;28mchr\u001b[39m(\u001b[38;5;241m215\u001b[39m)  \u001b[38;5;66;03m# ×  # noqa: RUF003\u001b[39;00m\n",
      "File \u001b[1;32mc:\\Users\\mrhac\\anaconda3\\envs\\sign2\\lib\\site-packages\\pandas\\io\\formats\\html.py:267\u001b[0m, in \u001b[0;36mHTMLFormatter._write_table\u001b[1;34m(self, indent)\u001b[0m\n\u001b[0;32m    261\u001b[0m \u001b[38;5;28mself\u001b[39m\u001b[38;5;241m.\u001b[39mwrite(\n\u001b[0;32m    262\u001b[0m     \u001b[38;5;124mf\u001b[39m\u001b[38;5;124m'\u001b[39m\u001b[38;5;124m<table\u001b[39m\u001b[38;5;132;01m{\u001b[39;00mborder_attr\u001b[38;5;132;01m}\u001b[39;00m\u001b[38;5;124m class=\u001b[39m\u001b[38;5;124m\"\u001b[39m\u001b[38;5;132;01m{\u001b[39;00m\u001b[38;5;124m\"\u001b[39m\u001b[38;5;124m \u001b[39m\u001b[38;5;124m\"\u001b[39m\u001b[38;5;241m.\u001b[39mjoin(_classes)\u001b[38;5;132;01m}\u001b[39;00m\u001b[38;5;124m\"\u001b[39m\u001b[38;5;132;01m{\u001b[39;00mid_section\u001b[38;5;132;01m}\u001b[39;00m\u001b[38;5;124m>\u001b[39m\u001b[38;5;124m'\u001b[39m,\n\u001b[0;32m    263\u001b[0m     indent,\n\u001b[0;32m    264\u001b[0m )\n\u001b[0;32m    266\u001b[0m \u001b[38;5;28;01mif\u001b[39;00m \u001b[38;5;28mself\u001b[39m\u001b[38;5;241m.\u001b[39mfmt\u001b[38;5;241m.\u001b[39mheader \u001b[38;5;129;01mor\u001b[39;00m \u001b[38;5;28mself\u001b[39m\u001b[38;5;241m.\u001b[39mshow_row_idx_names:\n\u001b[1;32m--> 267\u001b[0m     \u001b[38;5;28;43mself\u001b[39;49m\u001b[38;5;241;43m.\u001b[39;49m\u001b[43m_write_header\u001b[49m\u001b[43m(\u001b[49m\u001b[43mindent\u001b[49m\u001b[43m \u001b[49m\u001b[38;5;241;43m+\u001b[39;49m\u001b[43m \u001b[49m\u001b[38;5;28;43mself\u001b[39;49m\u001b[38;5;241;43m.\u001b[39;49m\u001b[43mindent_delta\u001b[49m\u001b[43m)\u001b[49m\n\u001b[0;32m    269\u001b[0m \u001b[38;5;28mself\u001b[39m\u001b[38;5;241m.\u001b[39m_write_body(indent \u001b[38;5;241m+\u001b[39m \u001b[38;5;28mself\u001b[39m\u001b[38;5;241m.\u001b[39mindent_delta)\n\u001b[0;32m    271\u001b[0m \u001b[38;5;28mself\u001b[39m\u001b[38;5;241m.\u001b[39mwrite(\u001b[38;5;124m\"\u001b[39m\u001b[38;5;124m</table>\u001b[39m\u001b[38;5;124m\"\u001b[39m, indent)\n",
      "File \u001b[1;32mc:\\Users\\mrhac\\anaconda3\\envs\\sign2\\lib\\site-packages\\pandas\\io\\formats\\html.py:403\u001b[0m, in \u001b[0;36mHTMLFormatter._write_header\u001b[1;34m(self, indent)\u001b[0m\n\u001b[0;32m    400\u001b[0m \u001b[38;5;28mself\u001b[39m\u001b[38;5;241m.\u001b[39mwrite(\u001b[38;5;124m\"\u001b[39m\u001b[38;5;124m<thead>\u001b[39m\u001b[38;5;124m\"\u001b[39m, indent)\n\u001b[0;32m    402\u001b[0m \u001b[38;5;28;01mif\u001b[39;00m \u001b[38;5;28mself\u001b[39m\u001b[38;5;241m.\u001b[39mfmt\u001b[38;5;241m.\u001b[39mheader:\n\u001b[1;32m--> 403\u001b[0m     \u001b[38;5;28;43mself\u001b[39;49m\u001b[38;5;241;43m.\u001b[39;49m\u001b[43m_write_col_header\u001b[49m\u001b[43m(\u001b[49m\u001b[43mindent\u001b[49m\u001b[43m \u001b[49m\u001b[38;5;241;43m+\u001b[39;49m\u001b[43m \u001b[49m\u001b[38;5;28;43mself\u001b[39;49m\u001b[38;5;241;43m.\u001b[39;49m\u001b[43mindent_delta\u001b[49m\u001b[43m)\u001b[49m\n\u001b[0;32m    405\u001b[0m \u001b[38;5;28;01mif\u001b[39;00m \u001b[38;5;28mself\u001b[39m\u001b[38;5;241m.\u001b[39mshow_row_idx_names:\n\u001b[0;32m    406\u001b[0m     \u001b[38;5;28mself\u001b[39m\u001b[38;5;241m.\u001b[39m_write_row_header(indent \u001b[38;5;241m+\u001b[39m \u001b[38;5;28mself\u001b[39m\u001b[38;5;241m.\u001b[39mindent_delta)\n",
      "File \u001b[1;32mc:\\Users\\mrhac\\anaconda3\\envs\\sign2\\lib\\site-packages\\pandas\\io\\formats\\html.py:383\u001b[0m, in \u001b[0;36mHTMLFormatter._write_col_header\u001b[1;34m(self, indent)\u001b[0m\n\u001b[0;32m    381\u001b[0m     \u001b[38;5;28;01melse\u001b[39;00m:\n\u001b[0;32m    382\u001b[0m         row\u001b[38;5;241m.\u001b[39mappend(\u001b[38;5;124m\"\u001b[39m\u001b[38;5;124m\"\u001b[39m)\n\u001b[1;32m--> 383\u001b[0m row\u001b[38;5;241m.\u001b[39mextend(\u001b[38;5;28;43mself\u001b[39;49m\u001b[38;5;241;43m.\u001b[39;49m\u001b[43m_get_columns_formatted_values\u001b[49m\u001b[43m(\u001b[49m\u001b[43m)\u001b[49m)\n\u001b[0;32m    384\u001b[0m align \u001b[38;5;241m=\u001b[39m \u001b[38;5;28mself\u001b[39m\u001b[38;5;241m.\u001b[39mfmt\u001b[38;5;241m.\u001b[39mjustify\n\u001b[0;32m    386\u001b[0m \u001b[38;5;28;01mif\u001b[39;00m is_truncated_horizontally:\n",
      "File \u001b[1;32mc:\\Users\\mrhac\\anaconda3\\envs\\sign2\\lib\\site-packages\\pandas\\io\\formats\\html.py:611\u001b[0m, in \u001b[0;36mNotebookFormatter._get_columns_formatted_values\u001b[1;34m(self)\u001b[0m\n\u001b[0;32m    609\u001b[0m \u001b[38;5;28;01mdef\u001b[39;00m\u001b[38;5;250m \u001b[39m\u001b[38;5;21m_get_columns_formatted_values\u001b[39m(\u001b[38;5;28mself\u001b[39m) \u001b[38;5;241m-\u001b[39m\u001b[38;5;241m>\u001b[39m \u001b[38;5;28mlist\u001b[39m[\u001b[38;5;28mstr\u001b[39m]:\n\u001b[0;32m    610\u001b[0m     \u001b[38;5;66;03m# only reached with non-Multi Index\u001b[39;00m\n\u001b[1;32m--> 611\u001b[0m     \u001b[38;5;28;01mreturn\u001b[39;00m \u001b[38;5;28;43mself\u001b[39;49m\u001b[38;5;241;43m.\u001b[39;49m\u001b[43mcolumns\u001b[49m\u001b[38;5;241;43m.\u001b[39;49m\u001b[43m_format_flat\u001b[49m(include_name\u001b[38;5;241m=\u001b[39m\u001b[38;5;28;01mFalse\u001b[39;00m)\n",
      "\u001b[1;31mAttributeError\u001b[0m: 'Index' object has no attribute '_format_flat'"
     ]
    },
    {
     "data": {
      "text/plain": [
       "                  ID    Customer_ID          Month            Age  \\\n",
       "count  100000.000000  100000.000000  100000.000000  100000.000000   \n",
       "mean    80631.500000   25982.666640       4.500000      33.316340   \n",
       "std     43301.486619   14340.543051       2.291299      10.764812   \n",
       "min      5634.000000    1006.000000       1.000000      14.000000   \n",
       "25%     43132.750000   13664.500000       2.750000      24.000000   \n",
       "50%     80631.500000   25777.000000       4.500000      33.000000   \n",
       "75%    118130.250000   38385.000000       6.250000      42.000000   \n",
       "max    155629.000000   50999.000000       8.000000      56.000000   \n",
       "\n",
       "                SSN  Annual_Income  Monthly_Inhand_Salary  Num_Bank_Accounts  \\\n",
       "count  1.000000e+05  100000.000000          100000.000000      100000.000000   \n",
       "mean   5.004617e+08   50505.123449            4197.270835           5.368820   \n",
       "std    2.908267e+08   38299.422093            3186.432497           2.593314   \n",
       "min    8.134900e+04    7005.930000             303.645417           0.000000   \n",
       "25%    2.451686e+08   19342.972500            1626.594167           3.000000   \n",
       "50%    5.006886e+08   36999.705000            3095.905000           5.000000   \n",
       "75%    7.560027e+08   71683.470000            5957.715000           7.000000   \n",
       "max    9.999934e+08  179987.280000           15204.633333          11.000000   \n",
       "\n",
       "       Num_Credit_Card  Interest_Rate  ...  Delay_from_due_date  \\\n",
       "count    100000.000000   100000.00000  ...         100000.00000   \n",
       "mean          5.533570       14.53208  ...             21.08141   \n",
       "std           2.067098        8.74133  ...             14.80456   \n",
       "min           0.000000        1.00000  ...              0.00000   \n",
       "25%           4.000000        7.00000  ...             10.00000   \n",
       "50%           5.000000       13.00000  ...             18.00000   \n",
       "75%           7.000000       20.00000  ...             28.00000   \n",
       "max          11.000000       34.00000  ...             62.00000   \n",
       "\n",
       "       Num_of_Delayed_Payment  Changed_Credit_Limit  Num_Credit_Inquiries  \\\n",
       "count           100000.000000         100000.000000         100000.000000   \n",
       "mean                13.313120             10.470323              5.798250   \n",
       "std                  6.237166              6.609481              3.867826   \n",
       "min                  0.000000              0.500000              0.000000   \n",
       "25%                  9.000000              5.380000              3.000000   \n",
       "50%                 14.000000              9.400000              5.000000   \n",
       "75%                 18.000000             14.850000              8.000000   \n",
       "max                 25.000000             29.980000             17.000000   \n",
       "\n",
       "       Outstanding_Debt  Credit_Utilization_Ratio  Credit_History_Age  \\\n",
       "count     100000.000000             100000.000000       100000.000000   \n",
       "mean        1426.220376                 32.285173          221.220460   \n",
       "std         1155.129026                  5.116875           99.680716   \n",
       "min            0.230000                 20.000000            1.000000   \n",
       "25%          566.072500                 28.052567          144.000000   \n",
       "50%         1166.155000                 32.305784          219.000000   \n",
       "75%         1945.962500                 36.496663          302.000000   \n",
       "max         4998.070000                 50.000000          404.000000   \n",
       "\n",
       "       Total_EMI_per_month  Amount_invested_monthly  Monthly_Balance  \n",
       "count        100000.000000            100000.000000    100000.000000  \n",
       "mean            107.699208                55.101315       392.697586  \n",
       "std             132.267056                39.006932       201.652719  \n",
       "min               0.000000                 0.000000         0.007760  \n",
       "25%              29.268886                27.959111       267.615983  \n",
       "50%              66.462304                45.156550       333.865366  \n",
       "75%             147.392573                71.295797       463.215683  \n",
       "max            1779.103254               434.191089      1183.930696  \n",
       "\n",
       "[8 rows x 21 columns]"
      ]
     },
     "execution_count": 16,
     "metadata": {},
     "output_type": "execute_result"
    }
   ],
   "source": [
    "data.describe()"
   ]
  },
  {
   "cell_type": "markdown",
   "metadata": {},
   "source": [
    "# 3. Handling Null Value"
   ]
  },
  {
   "cell_type": "code",
   "execution_count": null,
   "metadata": {},
   "outputs": [],
   "source": [
    "data.isnull()"
   ]
  },
  {
   "cell_type": "code",
   "execution_count": null,
   "metadata": {},
   "outputs": [],
   "source": [
    "data.isnull().sum()"
   ]
  },
  {
   "cell_type": "markdown",
   "metadata": {},
   "source": [
    "**The dataset doesn’t have any null values. As this dataset is labelled, let’s have a look at the Credit_Score column values:**"
   ]
  },
  {
   "cell_type": "code",
   "execution_count": null,
   "metadata": {},
   "outputs": [],
   "source": [
    "data['Credit_Score'].value_counts()"
   ]
  },
  {
   "cell_type": "markdown",
   "metadata": {},
   "source": [
    "# 4. Data Exploration"
   ]
  },
  {
   "cell_type": "markdown",
   "metadata": {},
   "source": [
    "* The dataset has many features that can train a Machine Learning model for credit score classification. Let’s explore all the features one by one."
   ]
  },
  {
   "cell_type": "code",
   "execution_count": null,
   "metadata": {},
   "outputs": [],
   "source": [
    "data.columns.unique()"
   ]
  },
  {
   "cell_type": "code",
   "execution_count": null,
   "metadata": {},
   "outputs": [],
   "source": [
    "fig=px.box(data,x='Occupation',\n",
    "           color='Credit_Score',\n",
    "           color_discrete_map={'Poor':'red',\n",
    "                               'Standard':'yellow',\n",
    "                               'Good':'green'}\n",
    "           )\n",
    "fig.update_layout(\n",
    "    plot_bgcolor='rgba(0,0,0,0.7)', # sets the plot background color to a dark gray\n",
    "    paper_bgcolor='rgba(0,0,0,0.7)', # sets the paper background color to a dark gray\n",
    "    font_color='white',\n",
    "    title={'text':'Credit score Based On Occupation','font_color':'red'}\n",
    ")\n",
    "fig.show()"
   ]
  },
  {
   "cell_type": "markdown",
   "metadata": {},
   "source": [
    "* There’s not much difference in the credit scores of all occupations mentioned in the data. Now let’s explore whether the Annual Income of the person impacts your credit scores or not:"
   ]
  },
  {
   "cell_type": "code",
   "execution_count": null,
   "metadata": {},
   "outputs": [],
   "source": [
    "fig=px.box(data,\n",
    "           x='Credit_Score',\n",
    "           y='Annual_Income',\n",
    "           color='Credit_Score',\n",
    "           color_discrete_map={'Poor':'red',\n",
    "                               'Standard':'yellow',\n",
    "                               'Good':'green'},\n",
    "           )\n",
    "fig.update_traces(quartilemethod='exclusive')\n",
    "fig.update_layout(\n",
    "    plot_bgcolor='rgba(0,0,0,0.7)', # sets the plot background color to a dark gray\n",
    "    paper_bgcolor='rgba(0,0,0,0.7)', # sets the paper background color to a dark gray\n",
    "    font_color='white',\n",
    "    title={'text':'Credit score Based On Occupation','font_color':'red'},\n",
    "    width=1400,\n",
    "    height=900\n",
    ")\n",
    "fig.show()\n",
    "           \n",
    "           "
   ]
  },
  {
   "cell_type": "markdown",
   "metadata": {},
   "source": [
    "* **According to the above visualization, the more you earn annually, the better your credit score is.** \n",
    "* **Now let’s explore whether the monthly in-hand salary impacts credit scores or not**"
   ]
  },
  {
   "cell_type": "code",
   "execution_count": null,
   "metadata": {},
   "outputs": [],
   "source": [
    "fig=px.box(data,\n",
    "           x='Credit_Score',\n",
    "           y='Monthly_Inhand_Salary',\n",
    "           color='Credit_Score',\n",
    "           color_discrete_map={'Poor':'red',\n",
    "                               'Standard':'yellow',\n",
    "                               'Good':'green'},\n",
    "           )\n",
    "fig.update_traces(quartilemethod='exclusive')\n",
    "fig.update_layout(\n",
    "    plot_bgcolor='rgba(0,0,0,0.7)', # sets the plot background color to a dark gray\n",
    "    paper_bgcolor='rgba(0,0,0,0.7)', # sets the paper background color to a dark gray\n",
    "    font_color='white',\n",
    "    title={'text':'Credit score Based On Monthly Inhand Salary ','font_color':'red'},\n",
    "    width=1400,\n",
    "    height=900\n",
    ")\n",
    "fig.show()\n",
    "           \n",
    "           "
   ]
  },
  {
   "cell_type": "markdown",
   "metadata": {},
   "source": [
    "* **Like annual income, the more monthly in-hand salary you earn, the better your credit score will become.** \n",
    "* **Now let’s see if having more bank accounts impacts credit scores or not**"
   ]
  },
  {
   "cell_type": "code",
   "execution_count": null,
   "metadata": {},
   "outputs": [],
   "source": [
    "fig=px.box(data,\n",
    "           x='Credit_Score',\n",
    "           y='Num_Bank_Accounts',\n",
    "           color='Credit_Score',\n",
    "           color_discrete_map={'Poor':'red',\n",
    "                               'Standard':'yellow',\n",
    "                               'Good':'green'},\n",
    "           )\n",
    "fig.update_traces(quartilemethod='exclusive')\n",
    "fig.update_layout(\n",
    "    plot_bgcolor='rgba(0,0,0,0.7)', # sets the plot background color to a dark gray\n",
    "    paper_bgcolor='rgba(0,0,0,0.7)', # sets the paper background color to a dark gray\n",
    "    font_color='white',\n",
    "    title={'text':'Credit score Based On Number of Bank Accounts ','font_color':'red'},\n",
    "    width=1400,\n",
    "    height=900\n",
    ")\n",
    "fig.show()\n",
    "           \n",
    "           "
   ]
  },
  {
   "cell_type": "markdown",
   "metadata": {},
   "source": [
    "* **Maintaining more than five accounts is not good for having a good credit score.** \n",
    "* **A person should have 2 – 3 bank accounts only. So having more bank accounts doesn’t positively impact credit scores.**\n",
    "* Now let’s see the impact on credit scores based on the number of credit cards you have:"
   ]
  },
  {
   "cell_type": "code",
   "execution_count": null,
   "metadata": {},
   "outputs": [],
   "source": [
    "fig=px.box(data,\n",
    "           x='Credit_Score',\n",
    "           y='Num_Credit_Card',\n",
    "           color='Credit_Score',\n",
    "           color_discrete_map={'Poor':'red',\n",
    "                               'Standard':'yellow',\n",
    "                               'Good':'green'},\n",
    "           )\n",
    "fig.update_traces(quartilemethod='exclusive')\n",
    "fig.update_layout(\n",
    "    plot_bgcolor='rgba(0,0,0,0.7)', # sets the plot background color to a dark gray\n",
    "    paper_bgcolor='rgba(0,0,0,0.7)', # sets the paper background color to a dark gray\n",
    "    font_color='white',\n",
    "    title={'text':'Credit score Based On Number Of Credit Card','font_color':'red'},\n",
    "    width=1400,\n",
    "    height=900\n",
    ")\n",
    "fig.show()\n",
    "           \n",
    "           "
   ]
  },
  {
   "cell_type": "markdown",
   "metadata": {},
   "source": [
    "* **Just like the number of bank accounts, having more credit cards will not positively impact your credit scores.** \n",
    "* **Having 3 – 5 credit cards is good for your credit score.** \n",
    "* Now let’s see the impact on credit scores based on how much average interest you pay on loans and EMIs:"
   ]
  },
  {
   "cell_type": "code",
   "execution_count": null,
   "metadata": {},
   "outputs": [],
   "source": [
    "fig=px.box(data,\n",
    "           x='Credit_Score',\n",
    "           y='Interest_Rate',\n",
    "           color='Credit_Score',\n",
    "           color_discrete_map={'Poor':'red',\n",
    "                               'Standard':'yellow',\n",
    "                               'Good':'green'},\n",
    "           )\n",
    "fig.update_traces(quartilemethod='exclusive')\n",
    "fig.update_layout(\n",
    "    plot_bgcolor='rgba(0,0,0,0.7)', # sets the plot background color to a dark gray\n",
    "    paper_bgcolor='rgba(0,0,0,0.7)', # sets the paper background color to a dark gray\n",
    "    font_color='white',\n",
    "    title={'text':'Credit score Based On Average Interest rates','font_color':'red'},\n",
    "    width=1400,\n",
    "    height=900\n",
    ")\n",
    "fig.show()\n",
    "           \n",
    "           "
   ]
  },
  {
   "cell_type": "markdown",
   "metadata": {},
   "source": [
    "* **If the average interest rate is 4 – 11%, the credit score is good.** \n",
    "* **Having an average interest rate of more than 15% is bad for your credit scores.** \n",
    "* Now let’s see how many loans you can take at a time for a good credit score:"
   ]
  },
  {
   "cell_type": "code",
   "execution_count": null,
   "metadata": {},
   "outputs": [],
   "source": [
    "fig=px.box(data,\n",
    "           x='Credit_Score',\n",
    "           y='Num_of_Loan',\n",
    "           color='Credit_Score',\n",
    "           color_discrete_map={'Poor':'red',\n",
    "                               'Standard':'yellow',\n",
    "                               'Good':'green'},\n",
    "           )\n",
    "fig.update_traces(quartilemethod='exclusive')\n",
    "fig.update_layout(\n",
    "    plot_bgcolor='rgba(0,0,0,0.7)', # sets the plot background color to a dark gray\n",
    "    paper_bgcolor='rgba(0,0,0,0.7)', # sets the paper background color to a dark gray\n",
    "    font_color='white',\n",
    "    title={'text':'Credit score Based On Number Of Loan','font_color':'red'},\n",
    "    width=1400,\n",
    "    height=900\n",
    ")\n",
    "fig.show()\n",
    "           \n",
    "           "
   ]
  },
  {
   "cell_type": "markdown",
   "metadata": {},
   "source": [
    "* **To have a good credit score, you should not take more than 1 – 3 loans at a time.** \n",
    "* **Having more than three loans at a time will negatively impact your credit scores.** \n",
    "* Now let’s see if delaying payments on the due date impacts your credit scores or not:"
   ]
  },
  {
   "cell_type": "code",
   "execution_count": null,
   "metadata": {},
   "outputs": [],
   "source": [
    "fig=px.box(data,\n",
    "           x='Credit_Score',\n",
    "           y='Delay_from_due_date',\n",
    "           color='Credit_Score',\n",
    "           color_discrete_map={'Poor':'red',\n",
    "                               'Standard':'yellow',\n",
    "                               'Good':'green'},\n",
    "           )\n",
    "fig.update_traces(quartilemethod='exclusive')\n",
    "fig.update_layout(\n",
    "    plot_bgcolor='rgba(0,0,0,0.7)', # sets the plot background color to a dark gray\n",
    "    paper_bgcolor='rgba(0,0,0,0.7)', # sets the paper background color to a dark gray\n",
    "    font_color='white',\n",
    "    title={'text':'Credit score Based On Average Number of Days Delayed For Credit Crad Payments ','font_color':'red'},\n",
    "    width=1400,\n",
    "    height=900\n",
    ")\n",
    "fig.show()\n",
    "           \n",
    "           "
   ]
  },
  {
   "cell_type": "markdown",
   "metadata": {},
   "source": [
    "* **So you can delay your credit card payment 5 – 14 days from the due date.** \n",
    "* **Delaying your payments for more than 17 days from the due date will impact your credit scores negatively.**\n",
    "*  Now let’s have a look at if frequently delaying payments will impact credit scores or not:"
   ]
  },
  {
   "cell_type": "code",
   "execution_count": null,
   "metadata": {},
   "outputs": [],
   "source": [
    "fig=px.box(data,\n",
    "           x='Credit_Score',\n",
    "           y='Num_of_Delayed_Payment',\n",
    "           color='Credit_Score',\n",
    "           color_discrete_map={'Poor':'red',\n",
    "                               'Standard':'yellow',\n",
    "                               'Good':'green'},\n",
    "           )\n",
    "fig.update_traces(quartilemethod='exclusive')\n",
    "fig.update_layout(\n",
    "    plot_bgcolor='rgba(0,0,0,0.7)', # sets the plot background color to a dark gray\n",
    "    paper_bgcolor='rgba(0,0,0,0.7)', # sets the paper background color to a dark gray\n",
    "    font_color='white',\n",
    "    title={'text':'Credit score Based On Average Number of Delayed Payments','font_color':'red'},\n",
    "    width=1400,\n",
    "    height=900\n",
    ")\n",
    "fig.show()\n",
    "           \n",
    "           "
   ]
  },
  {
   "cell_type": "markdown",
   "metadata": {},
   "source": [
    "* **So delaying 4 – 12 payments from the due date will not affect your credit scores.** \n",
    "* **But delaying more than 12 payments from the due date will affect your credit scores negatively.** \n",
    "* Now let’s see if having more debt will affect credit scores or not:"
   ]
  },
  {
   "cell_type": "code",
   "execution_count": null,
   "metadata": {},
   "outputs": [],
   "source": [
    "fig=px.box(data,\n",
    "           x='Credit_Score',\n",
    "           y='Outstanding_Debt',\n",
    "           color='Credit_Score',\n",
    "           color_discrete_map={'Poor':'red',\n",
    "                               'Standard':'yellow',\n",
    "                               'Good':'green'},\n",
    "           )\n",
    "fig.update_traces(quartilemethod='exclusive')\n",
    "fig.update_layout(\n",
    "    plot_bgcolor='rgba(0,0,0,0.7)', # sets the plot background color to a dark gray\n",
    "    paper_bgcolor='rgba(0,0,0,0.7)', # sets the paper background color to a dark gray\n",
    "    font_color='white',\n",
    "    title={'text':'Credit score Based On Oustanding Debt','font_color':'red'},\n",
    "    width=1400,\n",
    "    height=900\n",
    ")\n",
    "fig.show()\n",
    "           \n",
    "           "
   ]
  },
  {
   "cell_type": "markdown",
   "metadata": {},
   "source": [
    "* **An outstanding debt of $380 – $1150 will not affect your credit scores.** \n",
    "* **But always having a debt of more than $1338 will affect your credit scores negatively.** \n",
    "* Now let’s see if having a high credit utilization ratio will affect credit scores or not:"
   ]
  },
  {
   "cell_type": "code",
   "execution_count": null,
   "metadata": {},
   "outputs": [],
   "source": [
    "fig=px.box(data,\n",
    "           x='Credit_Score',\n",
    "           y='Credit_Utilization_Ratio',\n",
    "           color='Credit_Score',\n",
    "           color_discrete_map={'Poor':'red',\n",
    "                               'Standard':'yellow',\n",
    "                               'Good':'green'},\n",
    "           )\n",
    "fig.update_traces(quartilemethod='exclusive')\n",
    "fig.update_layout(\n",
    "    plot_bgcolor='rgba(0,0,0,0.7)', # sets the plot background color to a dark gray\n",
    "    paper_bgcolor='rgba(0,0,0,0.7)', # sets the paper background color to a dark gray\n",
    "    font_color='white',\n",
    "    title={'text':'Credit score Based On Credit Utilization Ratio ','font_color':'red'},\n",
    "    width=1400,\n",
    "    height=900\n",
    ")\n",
    "fig.show()\n",
    "           \n",
    "           "
   ]
  },
  {
   "cell_type": "markdown",
   "metadata": {},
   "source": [
    "* **Credit utilization ratio means your total debt divided by your total available credit.** \n",
    "* **According to the above figure, your credit utilization ratio doesn’t affect your credit scores.** \n",
    "* Now let’s see how the credit history age of a person affects credit scores:"
   ]
  },
  {
   "cell_type": "code",
   "execution_count": null,
   "metadata": {},
   "outputs": [],
   "source": [
    "fig=px.box(data,\n",
    "           x='Credit_Score',\n",
    "           y='Credit_History_Age',\n",
    "           color='Credit_Score',\n",
    "           color_discrete_map={'Poor':'red',\n",
    "                               'Standard':'yellow',\n",
    "                               'Good':'green'},\n",
    "           )\n",
    "fig.update_traces(quartilemethod='exclusive')\n",
    "fig.update_layout(\n",
    "    plot_bgcolor='rgba(0,0,0,0.7)', # sets the plot background color to a dark gray\n",
    "    paper_bgcolor='rgba(0,0,0,0.7)', # sets the paper background color to a dark gray\n",
    "    font_color='white',\n",
    "    title={'text':'Credit score Based On Credit History Age','font_color':'red'},\n",
    "    width=1400,\n",
    "    height=900\n",
    ")\n",
    "fig.show()\n",
    "           \n",
    "           "
   ]
  },
  {
   "cell_type": "markdown",
   "metadata": {},
   "source": [
    "**So, having a long credit history results in better credit scores.** \n",
    "* Now let’s see how many EMIs you can have in a month for a good credit score:"
   ]
  },
  {
   "cell_type": "code",
   "execution_count": null,
   "metadata": {},
   "outputs": [],
   "source": [
    "fig=px.box(data,\n",
    "           x='Credit_Score',\n",
    "           y='Total_EMI_per_month',\n",
    "           color='Credit_Score',\n",
    "           color_discrete_map={'Poor':'red',\n",
    "                               'Standard':'yellow',\n",
    "                               'Good':'green'},\n",
    "           )\n",
    "fig.update_traces(quartilemethod='exclusive')\n",
    "fig.update_layout(\n",
    "    plot_bgcolor='rgba(0,0,0,0.7)', # sets the plot background color to a dark gray\n",
    "    paper_bgcolor='rgba(0,0,0,0.7)', # sets the paper background color to a dark gray\n",
    "    font_color='white',\n",
    "    title={'text':'Credit score Based On Total EMI Per Month','font_color':'red'},\n",
    "    width=1400,\n",
    "    height=900\n",
    ")\n",
    "fig.show()\n",
    "           \n",
    "           "
   ]
  },
  {
   "cell_type": "markdown",
   "metadata": {},
   "source": [
    "* **The number of EMIs you are paying in a month doesn’t affect much on credit scores.** \n",
    "* Now let’s see if your monthly investments affect your credit scores or not:"
   ]
  },
  {
   "cell_type": "code",
   "execution_count": null,
   "metadata": {},
   "outputs": [],
   "source": [
    "fig=px.box(data,\n",
    "           x='Credit_Score',\n",
    "           y='Amount_invested_monthly',\n",
    "           color='Credit_Score',\n",
    "           color_discrete_map={'Poor':'red',\n",
    "                               'Standard':'yellow',\n",
    "                               'Good':'green'},\n",
    "           )\n",
    "fig.update_traces(quartilemethod='exclusive')\n",
    "fig.update_layout(\n",
    "    plot_bgcolor='rgba(0,0,0,0.7)', # sets the plot background color to a dark gray\n",
    "    paper_bgcolor='rgba(0,0,0,0.7)', # sets the paper background color to a dark gray\n",
    "    font_color='white',\n",
    "    title={'text':'Credit score Based On Amount Invested Monthly','font_color':'red'},\n",
    "    width=1400,\n",
    "    height=900\n",
    ")\n",
    "fig.show()\n",
    "           \n",
    "           "
   ]
  },
  {
   "cell_type": "markdown",
   "metadata": {},
   "source": [
    "* **The amount of money you invest monthly doesn’t affect your credit scores a lot.** \n",
    "* Now let’s see if having a low amount at the end of the month affects credit scores or not:"
   ]
  },
  {
   "cell_type": "code",
   "execution_count": null,
   "metadata": {},
   "outputs": [],
   "source": [
    "fig=px.box(data,\n",
    "           x='Credit_Score',\n",
    "           y='Monthly_Balance',\n",
    "           color='Credit_Score',\n",
    "           color_discrete_map={'Poor':'red',\n",
    "                               'Standard':'yellow',\n",
    "                               'Good':'green'},\n",
    "           )\n",
    "fig.update_traces(quartilemethod='exclusive')\n",
    "fig.update_layout(\n",
    "    plot_bgcolor='rgba(0,0,0,0.7)', # sets the plot background color to a dark gray\n",
    "    paper_bgcolor='rgba(0,0,0,0.7)', # sets the paper background color to a dark gray\n",
    "    font_color='white',\n",
    "    title={'text':'Credit score Based On Monthly Balance Left','font_color':'red'},\n",
    "    width=1400,\n",
    "    height=900\n",
    ")\n",
    "fig.show()\n",
    "           \n",
    "           "
   ]
  },
  {
   "cell_type": "markdown",
   "metadata": {},
   "source": [
    "**So, having a high monthly balance in your account at the end of the month is good for your credit scores.** \n",
    "* **A monthly balance of less than $250 is bad for credit scores.**"
   ]
  },
  {
   "cell_type": "markdown",
   "metadata": {},
   "source": [
    "### Credit Score Classification Model\n",
    "* **One more important feature (Credit Mix) in the dataset is valuable for determining credit scores.** \n",
    "* **The credit mix feature tells about the types of credits and loans you have taken.**"
   ]
  },
  {
   "cell_type": "markdown",
   "metadata": {},
   "source": [
    "* **As the Credit_Mix column is categorical, I will transform it into a numerical feature so that we can use it to train a Machine Learning model for the task of credit score classification:**"
   ]
  },
  {
   "cell_type": "code",
   "execution_count": null,
   "metadata": {},
   "outputs": [],
   "source": [
    "data['Credit_Mix']=data['Credit_Mix'].map({\"Standard\":1,\"Good\":2,\"Bad\":0})\n"
   ]
  },
  {
   "cell_type": "markdown",
   "metadata": {},
   "source": [
    "* **Now I will split the data into features and labels by selecting the features we found important for our model:**"
   ]
  },
  {
   "cell_type": "code",
   "execution_count": null,
   "metadata": {},
   "outputs": [],
   "source": [
    "from sklearn.model_selection import train_test_split"
   ]
  },
  {
   "cell_type": "markdown",
   "metadata": {},
   "source": [
    "* **Making Dependent and Independent Feature**"
   ]
  },
  {
   "cell_type": "code",
   "execution_count": null,
   "metadata": {},
   "outputs": [],
   "source": [
    "# Independent Feature\n",
    "x = np.array(data[[\"Annual_Income\", \"Monthly_Inhand_Salary\", \n",
    "                   \"Num_Bank_Accounts\", \"Num_Credit_Card\", \n",
    "                   \"Interest_Rate\", \"Num_of_Loan\", \n",
    "                   \"Delay_from_due_date\", \"Num_of_Delayed_Payment\", \n",
    "                   \"Credit_Mix\", \"Outstanding_Debt\", \n",
    "                   \"Credit_History_Age\", \"Monthly_Balance\"]]\n",
    ")   \n",
    " # dependent Features\n",
    "y = np.array(data[\"Credit_Score\"])"
   ]
  },
  {
   "cell_type": "code",
   "execution_count": null,
   "metadata": {},
   "outputs": [],
   "source": [
    "x_train, x_test, y_train, y_test = train_test_split(x, y, \n",
    "                                                    test_size=0.33, \n",
    "                                                    random_state=42)"
   ]
  },
  {
   "cell_type": "code",
   "execution_count": null,
   "metadata": {},
   "outputs": [],
   "source": [
    "from sklearn.ensemble import RandomForestClassifier\n",
    "model = RandomForestClassifier()\n",
    "model.fit(x_train, y_train)"
   ]
  },
  {
   "cell_type": "markdown",
   "metadata": {},
   "source": [
    "* **Now, let’s make predictions from our model by giving inputs to our model according to the features we used to train the model:**"
   ]
  },
  {
   "cell_type": "code",
   "execution_count": null,
   "metadata": {},
   "outputs": [],
   "source": [
    "print(\"Credit Score Prediction : \")\n",
    "a = float(input(\"Annual Income: \"))\n",
    "b = float(input(\"Monthly Inhand Salary: \"))\n",
    "c = float(input(\"Number of Bank Accounts: \"))\n",
    "d = float(input(\"Number of Credit cards: \"))\n",
    "e = float(input(\"Interest rate: \"))\n",
    "f = float(input(\"Number of Loans: \"))\n",
    "g = float(input(\"Average number of days delayed by the person: \"))\n",
    "h = float(input(\"Number of delayed payments: \"))\n",
    "i = input(\"Credit Mix (Bad: 0, Standard: 1, Good: 3) : \")\n",
    "j = float(input(\"Outstanding Debt: \"))\n",
    "k = float(input(\"Credit History Age: \"))\n",
    "l = float(input(\"Monthly Balance: \"))\n",
    "\n",
    "features = np.array([[a, b, c, d, e, f, g, h, i, j, k, l]])\n",
    "print(\"Predicted Credit Score = \", model.predict(features))"
   ]
  },
  {
   "attachments": {},
   "cell_type": "markdown",
   "metadata": {},
   "source": [
    "# Data Input Above Test\n",
    "* Credit Score Prediction : \n",
    "* Annual Income: 19114.12\n",
    "* Monthly Inhand Salary: 1824.843333\n",
    "* Number of Bank Accounts: 2\n",
    "* Number of Credit cards: 2\n",
    "* Interest rate: 9\n",
    "* Number of Loans: 2\n",
    "* Average number of days delayed by the person: 12\n",
    "* Number of delayed payments: 3\n",
    "* Credit Mix (Bad: 0, Standard: 1, Good: 3) : 3\n",
    "* Outstanding Debt: 250\n",
    "* Credit History Age: 200\n",
    "* Monthly Balance: 310\n",
    "* Predicted Credit Score =  ['Good']\n"
   ]
  },
  {
   "cell_type": "markdown",
   "metadata": {},
   "source": [
    "* ####  So this is how you can use Machine Learning for the task of Credit Score Classification using Python."
   ]
  },
  {
   "cell_type": "markdown",
   "metadata": {},
   "source": [
    "# Reference\n",
    "* [DataSet Link (Click Me](https://statso.io/credit-score-classification-case-study/)\n",
    "* [Aman Kharwal (medium.com)](https://amankharwal.medium.com/)"
   ]
  },
  {
   "cell_type": "markdown",
   "metadata": {},
   "source": [
    "<div style=\"color:white;\n",
    "            display:fill;\n",
    "            border-radius:15px;\n",
    "            background-color:black;\n",
    "            font-size:100%;\n",
    "            font-family:Verdana;\n",
    "            letter-spacing:1px\">\n",
    "    <h2 style='padding: 20px;\n",
    "              color:red;\n",
    "              text-align:center;'>\n",
    "         END OF THE PROJECT ! \n",
    "    </h2>\n",
    "    </div>"
   ]
  },
  {
   "cell_type": "markdown",
   "metadata": {},
   "source": [
    "<div style=\"color:white;\n",
    "            display:fill;\n",
    "            border-radius:15px;\n",
    "            background-color:black;\n",
    "            font-size:100%;\n",
    "            font-family:Verdana;\n",
    "            letter-spacing:1px\">\n",
    "    <h2 style='padding: 20px;\n",
    "              color:GREEN;\n",
    "              text-align:center;'>\n",
    "         THANK YOU ! \n",
    "        </h2>\n",
    "    </div>"
   ]
  },
  {
   "cell_type": "markdown",
   "metadata": {},
   "source": []
  }
 ],
 "metadata": {
  "kernelspec": {
   "display_name": "sign2",
   "language": "python",
   "name": "python3"
  },
  "language_info": {
   "codemirror_mode": {
    "name": "ipython",
    "version": 3
   },
   "file_extension": ".py",
   "mimetype": "text/x-python",
   "name": "python",
   "nbconvert_exporter": "python",
   "pygments_lexer": "ipython3",
   "version": "3.9.21"
  }
 },
 "nbformat": 4,
 "nbformat_minor": 2
}
